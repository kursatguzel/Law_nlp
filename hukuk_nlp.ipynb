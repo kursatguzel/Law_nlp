{
  "nbformat": 4,
  "nbformat_minor": 0,
  "metadata": {
    "colab": {
      "name": "hukuk_nlp.ipynb",
      "provenance": [],
      "collapsed_sections": [],
      "authorship_tag": "ABX9TyPw4wCwNPsUy8l2v6MlKk/C"
    },
    "kernelspec": {
      "name": "python3",
      "display_name": "Python 3"
    },
    "language_info": {
      "name": "python"
    },
    "accelerator": "GPU"
  },
  "cells": [
    {
      "cell_type": "markdown",
      "metadata": {
        "id": "p_6Rtj2GAk5y"
      },
      "source": [
        "# Bağlantı"
      ]
    },
    {
      "cell_type": "code",
      "metadata": {
        "colab": {
          "base_uri": "https://localhost:8080/"
        },
        "id": "6QpN7bAc_MjS",
        "outputId": "e24f6faf-dd88-4924-9300-ab85a871dd5e"
      },
      "source": [
        "!apt-get install -y -qq software-properties-common python-software-properties module-init-tools\n",
        "!add-apt-repository -y ppa:alessandro-strada/ppa 2>&1 > /dev/null\n",
        "!apt-get update -qq 2>&1 > /dev/null\n",
        "!apt-get -y install -qq google-drive-ocamlfuse fuse\n",
        "from google.colab import auth\n",
        "auth.authenticate_user()\n",
        "from oauth2client.client import GoogleCredentials\n",
        "creds = GoogleCredentials.get_application_default()\n",
        "import getpass\n",
        "!google-drive-ocamlfuse -headless -id={creds.client_id} -secret={creds.client_secret} < /dev/null 2>&1 | grep URL\n",
        "vcode = getpass.getpass()\n",
        "!echo {vcode} | google-drive-ocamlfuse -headless -id={creds.client_id} -secret={creds.client_secret}"
      ],
      "execution_count": null,
      "outputs": [
        {
          "output_type": "stream",
          "text": [
            "E: Package 'python-software-properties' has no installation candidate\n",
            "Selecting previously unselected package google-drive-ocamlfuse.\n",
            "(Reading database ... 160706 files and directories currently installed.)\n",
            "Preparing to unpack .../google-drive-ocamlfuse_0.7.26-0ubuntu1~ubuntu18.04.1_amd64.deb ...\n",
            "Unpacking google-drive-ocamlfuse (0.7.26-0ubuntu1~ubuntu18.04.1) ...\n",
            "Setting up google-drive-ocamlfuse (0.7.26-0ubuntu1~ubuntu18.04.1) ...\n",
            "Processing triggers for man-db (2.8.3-2ubuntu0.1) ...\n",
            "Please, open the following URL in a web browser: https://accounts.google.com/o/oauth2/auth?client_id=32555940559.apps.googleusercontent.com&redirect_uri=urn%3Aietf%3Awg%3Aoauth%3A2.0%3Aoob&scope=https%3A%2F%2Fwww.googleapis.com%2Fauth%2Fdrive&response_type=code&access_type=offline&approval_prompt=force\n",
            "··········\n",
            "Please, open the following URL in a web browser: https://accounts.google.com/o/oauth2/auth?client_id=32555940559.apps.googleusercontent.com&redirect_uri=urn%3Aietf%3Awg%3Aoauth%3A2.0%3Aoob&scope=https%3A%2F%2Fwww.googleapis.com%2Fauth%2Fdrive&response_type=code&access_type=offline&approval_prompt=force\n",
            "Please enter the verification code: Access token retrieved correctly.\n"
          ],
          "name": "stdout"
        }
      ]
    },
    {
      "cell_type": "code",
      "metadata": {
        "colab": {
          "base_uri": "https://localhost:8080/"
        },
        "id": "rUeMI2tS_Xax",
        "outputId": "f5bfea0c-b4fd-4dcd-94c0-aad04a9277ce"
      },
      "source": [
        "!mkdir -p drive\n",
        "!google-drive-ocamlfuse drive\n",
        "!ls"
      ],
      "execution_count": null,
      "outputs": [
        {
          "output_type": "stream",
          "text": [
            "adc.json  drive  sample_data\n"
          ],
          "name": "stdout"
        }
      ]
    },
    {
      "cell_type": "markdown",
      "metadata": {
        "id": "ximFuiLv_ZWC"
      },
      "source": [
        "# Kütüphane"
      ]
    },
    {
      "cell_type": "code",
      "metadata": {
        "id": "BnIIzUJJ_hq-"
      },
      "source": [
        "import pandas as pd\n",
        "import numpy as np\n",
        "from sklearn.feature_extraction.text import CountVectorizer\n",
        "import string #noktalama işaretleri\n",
        "import re\n",
        "import nltk #etkisiz kelimeler\n",
        "import numpy\n",
        "import csv\n",
        "import pandas as pd\n",
        "import os, glob\n",
        "from nltk.corpus import stopwords\n",
        "from sklearn.model_selection import train_test_split\n",
        "from sklearn.feature_extraction.text import TfidfTransformer\n",
        "from sklearn.naive_bayes import MultinomialNB\n",
        "import requests\n",
        "\n",
        "\n"
      ],
      "execution_count": null,
      "outputs": []
    },
    {
      "cell_type": "markdown",
      "metadata": {
        "id": "orGwRTR_FT_8"
      },
      "source": [
        "# Test için örnek dava"
      ]
    },
    {
      "cell_type": "code",
      "metadata": {
        "colab": {
          "base_uri": "https://localhost:8080/",
          "height": 206
        },
        "id": "BOVQM6WV_5qb",
        "outputId": "2fd7ac1b-f902-46f1-fa2e-0a866c1b9e00"
      },
      "source": [
        "\n",
        "# excel'den veri yükleme\n",
        "\n",
        "from openpyxl import Workbook,load_workbook \n",
        "hukuk = pd.read_excel('/content/drive/Colab Notebooks/Hukuk/hukukk.xlsx')\n",
        "\n",
        "#ilk beş girdi görmek için\n",
        "hukuk.head() "
      ],
      "execution_count": null,
      "outputs": [
        {
          "output_type": "execute_result",
          "data": {
            "text/html": [
              "<div>\n",
              "<style scoped>\n",
              "    .dataframe tbody tr th:only-of-type {\n",
              "        vertical-align: middle;\n",
              "    }\n",
              "\n",
              "    .dataframe tbody tr th {\n",
              "        vertical-align: top;\n",
              "    }\n",
              "\n",
              "    .dataframe thead th {\n",
              "        text-align: right;\n",
              "    }\n",
              "</style>\n",
              "<table border=\"1\" class=\"dataframe\">\n",
              "  <thead>\n",
              "    <tr style=\"text-align: right;\">\n",
              "      <th></th>\n",
              "      <th>Suc</th>\n",
              "      <th>Karar</th>\n",
              "      <th>Hukum</th>\n",
              "    </tr>\n",
              "  </thead>\n",
              "  <tbody>\n",
              "    <tr>\n",
              "      <th>0</th>\n",
              "      <td>Resmi belgede sahtecilik, Bedelsiz kalmış sene...</td>\n",
              "      <td>Sanığın, borcuna karşılık olarak katılana verd...</td>\n",
              "      <td>Beraat</td>\n",
              "    </tr>\n",
              "    <tr>\n",
              "      <th>1</th>\n",
              "      <td>Kasten yaralama</td>\n",
              "      <td>Sanık hakkında tekerrüre esas alınan ilamdaki ...</td>\n",
              "      <td>Mahkumiyet</td>\n",
              "    </tr>\n",
              "    <tr>\n",
              "      <th>2</th>\n",
              "      <td>Resmi belgede sahtecilik</td>\n",
              "      <td>1-Suça konu bonoların katılan tarafından iki i...</td>\n",
              "      <td>Mahkumiyet</td>\n",
              "    </tr>\n",
              "    <tr>\n",
              "      <th>3</th>\n",
              "      <td>Kasten yaralama, 6136 sayılı kanuna aykırılık</td>\n",
              "      <td>Mahalli mahkemece verilen hükümler temyiz edil...</td>\n",
              "      <td>Mahkumiyet</td>\n",
              "    </tr>\n",
              "    <tr>\n",
              "      <th>4</th>\n",
              "      <td>TAPU İPTALİ VE TESCİL-TENKİS</td>\n",
              "      <td>Taraflar arasında görülen davada;\\nDavacı, mir...</td>\n",
              "      <td>Hükmüne uyulan bozma kararında, gösterildiği ş...</td>\n",
              "    </tr>\n",
              "  </tbody>\n",
              "</table>\n",
              "</div>"
            ],
            "text/plain": [
              "                                                 Suc  ...                                              Hukum\n",
              "0  Resmi belgede sahtecilik, Bedelsiz kalmış sene...  ...                                             Beraat\n",
              "1                                    Kasten yaralama  ...                                         Mahkumiyet\n",
              "2                           Resmi belgede sahtecilik  ...                                        Mahkumiyet \n",
              "3      Kasten yaralama, 6136 sayılı kanuna aykırılık  ...                                         Mahkumiyet\n",
              "4                       TAPU İPTALİ VE TESCİL-TENKİS  ...  Hükmüne uyulan bozma kararında, gösterildiği ş...\n",
              "\n",
              "[5 rows x 3 columns]"
            ]
          },
          "metadata": {
            "tags": []
          },
          "execution_count": 52
        }
      ]
    },
    {
      "cell_type": "markdown",
      "metadata": {
        "id": "t5yAxhdKAC4f"
      },
      "source": [
        "# Veri Seti Önişleme"
      ]
    },
    {
      "cell_type": "code",
      "metadata": {
        "colab": {
          "base_uri": "https://localhost:8080/"
        },
        "id": "PLxbcBaS__EP",
        "outputId": "b0b5da11-ce58-4a34-9066-1f896f64e2f4"
      },
      "source": [
        "\n",
        "nltk.download('stopwords') # önemliiiii\n",
        "noktalama = string.punctuation\n",
        "etkisiz = stopwords.words('turkish')\n",
        "print(noktalama)\n",
        "print(etkisiz)"
      ],
      "execution_count": null,
      "outputs": [
        {
          "output_type": "stream",
          "text": [
            "[nltk_data] Downloading package stopwords to /root/nltk_data...\n",
            "[nltk_data]   Package stopwords is already up-to-date!\n",
            "!\"#$%&'()*+,-./:;<=>?@[\\]^_`{|}~\n",
            "['acaba', 'ama', 'aslında', 'az', 'bazı', 'belki', 'biri', 'birkaç', 'birşey', 'biz', 'bu', 'çok', 'çünkü', 'da', 'daha', 'de', 'defa', 'diye', 'eğer', 'en', 'gibi', 'hem', 'hep', 'hepsi', 'her', 'hiç', 'için', 'ile', 'ise', 'kez', 'ki', 'kim', 'mı', 'mu', 'mü', 'nasıl', 'ne', 'neden', 'nerde', 'nerede', 'nereye', 'niçin', 'niye', 'o', 'sanki', 'şey', 'siz', 'şu', 'tüm', 've', 'veya', 'ya', 'yani']\n"
          ],
          "name": "stdout"
        }
      ]
    },
    {
      "cell_type": "markdown",
      "metadata": {
        "id": "OxKTq7hlAIlX"
      },
      "source": [
        "# Eğitim Verileri"
      ]
    },
    {
      "cell_type": "code",
      "metadata": {
        "colab": {
          "base_uri": "https://localhost:8080/"
        },
        "id": "X2f86kxrAJD-",
        "outputId": "84e9db11-91d5-40cb-de76-163f8f468657"
      },
      "source": [
        "dizi= []\n",
        "for d in hukuk['Karar'].head():\n",
        "\n",
        "    print(d+ '\\n------------------------------')\n",
        "    # Etkisiz kelimeleri atmak\n",
        "    temp= ' '\n",
        "    for word in d.split():\n",
        "        if word not in etkisiz and not word.isnumeric():\n",
        "            temp += word + ' '\n",
        "      \n",
        "    print(temp+ '\\n********************')\n",
        "    dizi.append(temp)\n",
        "   "
      ],
      "execution_count": null,
      "outputs": [
        {
          "output_type": "stream",
          "text": [
            "Sanığın, borcuna karşılık olarak katılana verdiği 15.07.2009 tarihli 9.543 TL bedelli çeki ödeyip katılandan geri aldığı, katılanın çekin arkasında cirosunun bulunduğu, sanığın geri aldığı çekin miktar kısmını 39.543 TL olarak, tarihini de 15.09.2009 olarak değiştirdikten sonra yeninden ciro ederek ...’a verdiği, çekin ... tarafından katılan ve sanık aleyhine icraya konulduğu, sanığın çek üzerinde tahrifat yapmak suretiyle resmi belgede sahtecilik suçunu işlediği iddiasıyla açılan kamu davasında; katılanın sanıktan aldığı çeki ciro ederek borcuna karşılık ... isimli kişiye verdiği daha sonra borcunu ödeyerek geri aldığı çeki, arkasında kendi cirosu bulunduğu halde sanığa geri verdiği ve karşılığında demir alarak çek bedelinin katılana ödendiği, katılanın bu çek sebebiyle herhangi bir borcunun olmadığının sanık tarafından bilindiği halde, çek üzerinde katılanın bilgisi ve rızası olmaksızın miktar ve tarih kısmının değiştirilerek başkasına ciro edilerek katılanın borçlu konumuna getirildiği, sanığın eylemin bu şekilde gerçekleştiğine dair kabulünün de bulunduğu olayda öncelikle suça konu çek aslının duruşmaya getirtilip incelenmek suretiyle, özellikleri duruşma tutanağına yazıldıktan ve denetime olanak verecek şekilde dosyada bulundurulduktan sonra, yasal unsurları taşıyıp taşımadığı ve iğfal kabiliyetinin bulunup bulunmadığı yöntemince araştırılıp aldatıcı niteliğinin bulunduğunun anlaşılması halinde sübut bulan resmi belgede sahtecilik suçundan mahkumiyet hükmü kurulması gerekirken eksik inceleme ve yetersiz gerekçe ile eylemin ikiye bölünerek resmi belgede sahtecilik ve bedelsiz kalmış senedi tahsile koymak suçlarından beraat hükümleri kurulması,\n",
            "Yasaya aykırı, katılan vekilinin temyiz talepleri bu itibarla yerinde görülmüş olduğundan, hükmün bu sebeplerden dolayı 5320 sayılı Yasanın 8/1. maddesi gereğince uygulanması gereken 1412 sayılı CMUK'nin 321. maddesi uyarınca BOZULMASINA, 20.04.2021 tarihinde oybirliğiyle karar verildi.\n",
            "------------------------------\n",
            " Sanığın, borcuna karşılık olarak katılana verdiği 15.07.2009 tarihli 9.543 TL bedelli çeki ödeyip katılandan geri aldığı, katılanın çekin arkasında cirosunun bulunduğu, sanığın geri aldığı çekin miktar kısmını 39.543 TL olarak, tarihini 15.09.2009 olarak değiştirdikten sonra yeninden ciro ederek ...’a verdiği, çekin ... tarafından katılan sanık aleyhine icraya konulduğu, sanığın çek üzerinde tahrifat yapmak suretiyle resmi belgede sahtecilik suçunu işlediği iddiasıyla açılan kamu davasında; katılanın sanıktan aldığı çeki ciro ederek borcuna karşılık ... isimli kişiye verdiği sonra borcunu ödeyerek geri aldığı çeki, arkasında kendi cirosu bulunduğu halde sanığa geri verdiği karşılığında demir alarak çek bedelinin katılana ödendiği, katılanın çek sebebiyle herhangi bir borcunun olmadığının sanık tarafından bilindiği halde, çek üzerinde katılanın bilgisi rızası olmaksızın miktar tarih kısmının değiştirilerek başkasına ciro edilerek katılanın borçlu konumuna getirildiği, sanığın eylemin şekilde gerçekleştiğine dair kabulünün bulunduğu olayda öncelikle suça konu çek aslının duruşmaya getirtilip incelenmek suretiyle, özellikleri duruşma tutanağına yazıldıktan denetime olanak verecek şekilde dosyada bulundurulduktan sonra, yasal unsurları taşıyıp taşımadığı iğfal kabiliyetinin bulunup bulunmadığı yöntemince araştırılıp aldatıcı niteliğinin bulunduğunun anlaşılması halinde sübut bulan resmi belgede sahtecilik suçundan mahkumiyet hükmü kurulması gerekirken eksik inceleme yetersiz gerekçe eylemin ikiye bölünerek resmi belgede sahtecilik bedelsiz kalmış senedi tahsile koymak suçlarından beraat hükümleri kurulması, Yasaya aykırı, katılan vekilinin temyiz talepleri itibarla yerinde görülmüş olduğundan, hükmün sebeplerden dolayı sayılı Yasanın 8/1. maddesi gereğince uygulanması gereken sayılı CMUK'nin 321. maddesi uyarınca BOZULMASINA, 20.04.2021 tarihinde oybirliğiyle karar verildi. \n",
            "********************\n",
            "Sanık hakkında tekerrüre esas alınan ilamdaki TCK'nin 141/1. maddesinde düzenlenen ''basit hırsızlık'' suçu, 02.12.2016 tarihli Resmi Gazete'de yayımlanarak aynı tarihte yürürlüğe giren 6763 sayılı Kanun'un 34. maddesiyle değişik 5271 sayılı CMK'nin 253. maddesi gereğince uzlaşma kapsamına alınmış ise de, sanığın güncel adli sicil kaydının incelenmesinde, tekerrüre esas başkaca ilamının bulunduğu görülmekle, bu hususun infaz aşamasında değerlendirilmesi mümkün bulunduğundan tebliğnamedeki bozma düşüncesine iştirak edilmemiştir.\n",
            "Yerinde görülmeyen diğer temyiz sebeplerinin reddine, ancak;\n",
            "1)Sanığın yargılama konusu eyleminin, 5237 sayılı TCK’nin 86/2. maddesi kapsamında yer alan “Basit Kasten Yaralama” suçuna ilişkin olduğu, bahse konu eylem yönünden öngörülen ceza miktarının \"dört aydan bir yıla kadar hapis veya adli para cezasına\" ilişkin olduğu anlaşılmakla; 17/10/2019 tarih ve 7188 sayılı Kanun’un 24. maddesi ile yeniden düzenlenen 5271 sayılı CMK’nin 251/1. maddesine göre, “Asliye Ceza Mahkemesince, iddianamenin kabulünden sonra adli para cezasını ve/veya üst sınırı iki yıl veya daha az süreli hapis cezasını gerektiren suçlarda basit yargılama usulünün uygulanmasına karar verilebilir.” şeklindeki hükme, 7188 sayılı Kanun’un 31. maddesinde yer alan geçici 5/1-d. maddesi ile “01/01/2020 tarihi itibariyle kovuşturma evresine geçilmiş, hükme bağlanmış veya kesinleşmiş dosyalarda seri muhakeme usulü ile basit yargılama usulü uygulanmaz.” şeklinde sınırlama getirilmiş ise de, Anayasa Mahkemesinin, 19/08/2020 tarih ve 31218 sayılı Resmi Gazete’de yayımlanan, 25/06/2020 tarihli, 2020/16 Esas ve 2020/33 Karar sayılı iptal kararı ile “...kovuşturma evresine geçilmiş...” ibaresine ilişkin esas incelemenin aynı bentte yer\n",
            "\n",
            "alan “...basit yargılama usulü...” yönünden Anayasa'ya aykırı olduğuna ve iptaline karar verildiği, böylece “kovuşturma evresine geçilmiş basit yargılama usulü uygulanabilecek dosyalar yönünden iptal kararı” verildiği anlaşılmakla; her ne kadar Anayasa Mahkemesi kararları geriye yürümez ise de, CMK’de yapılan değişikliklerin derhal uygulanması ilkesi geçerli olsa da, iptal kararının sonuçları itibariyle Maddi Ceza Hukukuna ilişkin olduğu, zira CMK’nin 251/3. maddesinde “Basit yargılama usulü uygulanan dosyalarda sonuç ceza dörtte bir oranında indirilir” şeklindeki düzenleme gereği maddi ceza hukuku anlamında sanık lehine sonuç doğurmaya elverişli olduğundan, Avrupa İnsan Hakları Mahkemesi Büyük Dairesinin (Scoppola v İtalya (No: 3 – GC), No: 126/05, 22 Mayıs 2012) kararında belirtildiği üzere, Avrupa İnsan Hakları Sözleşmesinin “Kanunsuz ceza olmaz” başlıklı 7. maddesi, Türkiye Cumhuriyeti Anayasasının “Suç ve cezalara ilişkin esaslar” başlıklı 38. maddesi ile 5237 sayılı TCK'nin 7. ve 5271 sayılı CMK’nin 251. maddeleri uyarınca dosyanın “Basit Yargılama Usulü” yönünden değerlendirilmesinde zorunluluk bulunması,\n",
            "2)Sanık hakkında 5237 sayılı TCK'nin 61. maddesi uyarınca temel ceza belirlenirken söz konusu maddenin 1. fıkrasında yedi bent halinde sayılan hususlarla aynı Kanun'un 3. maddesinin 1. fıkrasındaki \"suç işleyen kişi hakkında işlenen fiilin ağırlığıyla orantılı ceza ve güvenlik tedbirine hükmolunur\" şeklindeki yasal düzenlemeler ile dosyaya yansıyan bilgi ve kanıtlar birlikte ve isabetle değerlendirilip, suç kastındaki yoğunluk, suç konusunun önem ve değeri, meydana gelen zararın ağırlığı gözetilerek ilgili kanun maddesindeki cezanın alt ve üst sınırları arasında takdir hakkının kullanılması gerekirken, sanığın borç para verme meselesinden tartıştığı müştekiye eliyle vurarak darp-cebir raporunda belirtildiği üzere ''sol dirsek arka eklem üzerinde 2x3 cm'lik alanda sıyrık, ekimoz, ödem ve hassasiyet mevcut olup'' basit tıbbi müdahale ile giderilebilecek şekilde yaraladığının anlaşılması karşısında; 5237 sayılı TCK'nin 86/2. maddesi uyarınca temel cezanın üst sınırdan tayin edilmesi suretiyle orantılılık ilkesine aykırı davranılması,\n",
            "Bozmayı gerektirmiş, sanık ve müdafiinin temyiz sebepleri bu itibarla yerinde görülmüş olduğundan hükmün bu nedenlerle 6723 sayılı Kanun'un 33. maddesiyle değişik 5320 sayılı Kanun'un 8/1. maddesi ile yürürlükte bulunan 1412 sayılı CMUK’un 321. maddesi uyarınca BOZULMASINA, 14.04.2021 gününde oy birliğiyle karar verildi.\n",
            "------------------------------\n",
            " Sanık hakkında tekerrüre esas alınan ilamdaki TCK'nin 141/1. maddesinde düzenlenen ''basit hırsızlık'' suçu, 02.12.2016 tarihli Resmi Gazete'de yayımlanarak aynı tarihte yürürlüğe giren sayılı Kanun'un 34. maddesiyle değişik sayılı CMK'nin 253. maddesi gereğince uzlaşma kapsamına alınmış de, sanığın güncel adli sicil kaydının incelenmesinde, tekerrüre esas başkaca ilamının bulunduğu görülmekle, hususun infaz aşamasında değerlendirilmesi mümkün bulunduğundan tebliğnamedeki bozma düşüncesine iştirak edilmemiştir. Yerinde görülmeyen diğer temyiz sebeplerinin reddine, ancak; 1)Sanığın yargılama konusu eyleminin, sayılı TCK’nin 86/2. maddesi kapsamında yer alan “Basit Kasten Yaralama” suçuna ilişkin olduğu, bahse konu eylem yönünden öngörülen ceza miktarının \"dört aydan bir yıla kadar hapis adli para cezasına\" ilişkin olduğu anlaşılmakla; 17/10/2019 tarih sayılı Kanun’un 24. maddesi yeniden düzenlenen sayılı CMK’nin 251/1. maddesine göre, “Asliye Ceza Mahkemesince, iddianamenin kabulünden sonra adli para cezasını ve/veya üst sınırı iki yıl süreli hapis cezasını gerektiren suçlarda basit yargılama usulünün uygulanmasına karar verilebilir.” şeklindeki hükme, sayılı Kanun’un 31. maddesinde yer alan geçici 5/1-d. maddesi “01/01/2020 tarihi itibariyle kovuşturma evresine geçilmiş, hükme bağlanmış kesinleşmiş dosyalarda seri muhakeme usulü basit yargılama usulü uygulanmaz.” şeklinde sınırlama getirilmiş de, Anayasa Mahkemesinin, 19/08/2020 tarih sayılı Resmi Gazete’de yayımlanan, 25/06/2020 tarihli, 2020/16 Esas 2020/33 Karar sayılı iptal kararı “...kovuşturma evresine geçilmiş...” ibaresine ilişkin esas incelemenin aynı bentte yer alan “...basit yargılama usulü...” yönünden Anayasa'ya aykırı olduğuna iptaline karar verildiği, böylece “kovuşturma evresine geçilmiş basit yargılama usulü uygulanabilecek dosyalar yönünden iptal kararı” verildiği anlaşılmakla; kadar Anayasa Mahkemesi kararları geriye yürümez de, CMK’de yapılan değişikliklerin derhal uygulanması ilkesi geçerli olsa da, iptal kararının sonuçları itibariyle Maddi Ceza Hukukuna ilişkin olduğu, zira CMK’nin 251/3. maddesinde “Basit yargılama usulü uygulanan dosyalarda sonuç ceza dörtte bir oranında indirilir” şeklindeki düzenleme gereği maddi ceza hukuku anlamında sanık lehine sonuç doğurmaya elverişli olduğundan, Avrupa İnsan Hakları Mahkemesi Büyük Dairesinin (Scoppola v İtalya (No: – GC), No: 126/05, Mayıs 2012) kararında belirtildiği üzere, Avrupa İnsan Hakları Sözleşmesinin “Kanunsuz ceza olmaz” başlıklı 7. maddesi, Türkiye Cumhuriyeti Anayasasının “Suç cezalara ilişkin esaslar” başlıklı 38. maddesi sayılı TCK'nin 7. sayılı CMK’nin 251. maddeleri uyarınca dosyanın “Basit Yargılama Usulü” yönünden değerlendirilmesinde zorunluluk bulunması, 2)Sanık hakkında sayılı TCK'nin 61. maddesi uyarınca temel ceza belirlenirken söz konusu maddenin 1. fıkrasında yedi bent halinde sayılan hususlarla aynı Kanun'un 3. maddesinin 1. fıkrasındaki \"suç işleyen kişi hakkında işlenen fiilin ağırlığıyla orantılı ceza güvenlik tedbirine hükmolunur\" şeklindeki yasal düzenlemeler dosyaya yansıyan bilgi kanıtlar birlikte isabetle değerlendirilip, suç kastındaki yoğunluk, suç konusunun önem değeri, meydana gelen zararın ağırlığı gözetilerek ilgili kanun maddesindeki cezanın alt üst sınırları arasında takdir hakkının kullanılması gerekirken, sanığın borç para verme meselesinden tartıştığı müştekiye eliyle vurarak darp-cebir raporunda belirtildiği üzere ''sol dirsek arka eklem üzerinde 2x3 cm'lik alanda sıyrık, ekimoz, ödem hassasiyet mevcut olup'' basit tıbbi müdahale giderilebilecek şekilde yaraladığının anlaşılması karşısında; sayılı TCK'nin 86/2. maddesi uyarınca temel cezanın üst sınırdan tayin edilmesi suretiyle orantılılık ilkesine aykırı davranılması, Bozmayı gerektirmiş, sanık müdafiinin temyiz sebepleri itibarla yerinde görülmüş olduğundan hükmün nedenlerle sayılı Kanun'un 33. maddesiyle değişik sayılı Kanun'un 8/1. maddesi yürürlükte bulunan sayılı CMUK’un 321. maddesi uyarınca BOZULMASINA, 14.04.2021 gününde oy birliğiyle karar verildi. \n",
            "********************\n",
            "1-Suça konu bonoların katılan tarafından iki imza atılmak suretiyle düzenlendiği anlaşılmakla; Yargıtay Hukuk Genel Kurulu'nun 2011/12-480 Esas ve 2011/598 Karar sayılı ilamında da belirtildiği üzere; bonoda borçtan sorumlu olmak için keşidecinin tek imzası yeterli olup birden fazla imza atılmasına gerek bulunmadığı ve 6762 sayılı TTK'nin 612. maddesi uyarınca açığa atılan ikinci imza aval olarak kabul edilip bu imza sahibi borçtan avalist sıfatıyla da şahsen sorumlu olacağı dikkate alındığında, sanığın katılanın düzenlediği bonolara yine katılanın adı soyadı ve adres bilgilerini yazarak icraya vermesi eyleminde, sahteciliğin “faydasız sahtecilik” olarak nitelendirilmesi gerektiği dolayısıyla atılı resmi belgede sahtecilik suçunun unsurlarının oluşmadığı ve beraatine karar verilmesi gerektiği gözetilmeden mahkumiyetine karar verilmesi,\n",
            "2- Kabule göre de;\n",
            "a) 5237 sayılı TCK'nin 43. maddesine göre \"Bir suç işleme kararının icrası kapsamında, değişik zamanlarda bir kişiye karşı aynı suçun birden fazla işlenmesi durumunda ya da aynı suçun birden fazla kişiye karşı tek bir fiille işlenmesi\" durumunda zincirleme suç hükümlerinin uygulanması mümkün olup; aynı anda gerçekleşen fiillerde zincirleme suça ilişkin hükümlerin uygulanma olanağı bulunmadığı, dosya kapsamına göre, suça konu belgelerin farklı tarihte düzenlendiğine dair delil bulunmadığı ve aynı anda kullanıldığının anlaşılması karşısında; 5237 sayılı TCK'nin 43. maddesi kapsamında zincirleme suç koşullarının oluşmadığı, ancak suça konu belge sayısı da nazara alınarak TCK'nin 61. maddesi uyarınca alt sınırdan uzaklaşmak suretiyle hüküm kurulması gerektiği gözetilmeden, zincirleme şekilde işlenmiş resmi belgede sahtecilik suçundan hüküm kurulması,\n",
            "b) 5237 sayılı TCK’nin 204/1 ve 43/1. maddeleri gereğince belirlenmiş olan 2 yıl 6 ay hapis cezasından, TCK’nin 62. maddesi uyarınca indirim yapılırken 2 yıl 1 ay hapis cezası yerine 1 yıl 13 ay hapis cezasına hükmolunmak suretiyle eksik ceza tayini,\n",
            "c) Adli emanetin 2014/1721 esas sırasına kayıtlı suça konu belgelerin dosyada delil olarak saklanması yerine müsaderesine karar verilmesi,\n",
            "d) 5237 sayılı TCK’nin 53. maddesine ilişkin uygulamanın Anayasa Mahkemesinin 08.10.2015 tarihli, 2014/140 Esas ve 2015/85 Karar sayılı iptal kararı ile birlikte yeniden değerlendirilmesinde zorunluluk bulunması,\n",
            "Bozmayı gerektirmiş, sanık müdafinin temyiz nedenleri bu itibarla yerinde görüldüğünden hükmün 5320 sayılı Kanun’un 8/1. maddesi gereğince uygulanması gereken CMUK'nin 321. maddesi uyarınca BOZULMASINA, sanığın ceza miktarı itibarıyla kazanılmış hakkının saklı tutulmasına, 14/04/2021 tarihinde oy birliği ile karar verildi.\n",
            "\n",
            "\n",
            "\n",
            "------------------------------\n",
            " 1-Suça konu bonoların katılan tarafından iki imza atılmak suretiyle düzenlendiği anlaşılmakla; Yargıtay Hukuk Genel Kurulu'nun 2011/12-480 Esas 2011/598 Karar sayılı ilamında belirtildiği üzere; bonoda borçtan sorumlu olmak keşidecinin tek imzası yeterli olup birden fazla imza atılmasına gerek bulunmadığı sayılı TTK'nin 612. maddesi uyarınca açığa atılan ikinci imza aval olarak kabul edilip imza sahibi borçtan avalist sıfatıyla şahsen sorumlu olacağı dikkate alındığında, sanığın katılanın düzenlediği bonolara yine katılanın adı soyadı adres bilgilerini yazarak icraya vermesi eyleminde, sahteciliğin “faydasız sahtecilik” olarak nitelendirilmesi gerektiği dolayısıyla atılı resmi belgede sahtecilik suçunun unsurlarının oluşmadığı beraatine karar verilmesi gerektiği gözetilmeden mahkumiyetine karar verilmesi, 2- Kabule göre de; a) sayılı TCK'nin 43. maddesine göre \"Bir suç işleme kararının icrası kapsamında, değişik zamanlarda bir kişiye karşı aynı suçun birden fazla işlenmesi durumunda aynı suçun birden fazla kişiye karşı tek bir fiille işlenmesi\" durumunda zincirleme suç hükümlerinin uygulanması mümkün olup; aynı anda gerçekleşen fiillerde zincirleme suça ilişkin hükümlerin uygulanma olanağı bulunmadığı, dosya kapsamına göre, suça konu belgelerin farklı tarihte düzenlendiğine dair delil bulunmadığı aynı anda kullanıldığının anlaşılması karşısında; sayılı TCK'nin 43. maddesi kapsamında zincirleme suç koşullarının oluşmadığı, ancak suça konu belge sayısı nazara alınarak TCK'nin 61. maddesi uyarınca alt sınırdan uzaklaşmak suretiyle hüküm kurulması gerektiği gözetilmeden, zincirleme şekilde işlenmiş resmi belgede sahtecilik suçundan hüküm kurulması, b) sayılı TCK’nin 204/1 43/1. maddeleri gereğince belirlenmiş olan yıl ay hapis cezasından, TCK’nin 62. maddesi uyarınca indirim yapılırken yıl ay hapis cezası yerine yıl ay hapis cezasına hükmolunmak suretiyle eksik ceza tayini, c) Adli emanetin 2014/1721 esas sırasına kayıtlı suça konu belgelerin dosyada delil olarak saklanması yerine müsaderesine karar verilmesi, d) sayılı TCK’nin 53. maddesine ilişkin uygulamanın Anayasa Mahkemesinin 08.10.2015 tarihli, 2014/140 Esas 2015/85 Karar sayılı iptal kararı birlikte yeniden değerlendirilmesinde zorunluluk bulunması, Bozmayı gerektirmiş, sanık müdafinin temyiz nedenleri itibarla yerinde görüldüğünden hükmün sayılı Kanun’un 8/1. maddesi gereğince uygulanması gereken CMUK'nin 321. maddesi uyarınca BOZULMASINA, sanığın ceza miktarı itibarıyla kazanılmış hakkının saklı tutulmasına, 14/04/2021 tarihinde oy birliği karar verildi. \n",
            "********************\n",
            "Mahalli mahkemece verilen hükümler temyiz edilmekle evrak okunarak;\n",
            "Gereği görüşülüp düşünüldü:\n",
            "1) Sanık hakkında 6136 sayılı Kanun'a aykırılık suçundan verilen mahkumiyet hükmüne yönelik katılan vekilinin temyiz sebeplerinin incelenmesinde;\n",
            "\n",
            "6136 sayılı Kanun’a aykırılık suçu yönünden katılanın doğrudan suçtan zarar görmesi mümkün olmadığından ve açılmış davaya katılma hakkı bulunmadığından, katılan vekilinin 6136 sayılı Kanun’a aykırılık suçu yönünden temyiz isteminin 6723 sayılı Kanun’un 33. maddesi ile değişik 5320 sayılı Kanun’un 8/1. maddesi ile yürürlükte bulunan 1412 sayılı CMUK'un 317. maddesi uyarınca REDDİNE,\n",
            "2) Sanık hakkında 6136 sayılı Kanun'a aykırılık suçundan verilen mahkumiyet hükmüne yönelik sanık müdafiinin temyiz sebeplerinin incelenmesinde;\n",
            "Adli para cezasının ödenmemesi halinde izlenecek yöntem 6545 sayılı Kanun'la değişik 5275 sayılı Kanun'un 106/3. maddesinde düzenlendiğinden bu husus infaz aşamasında dikkate alınabileceğinden bozma nedeni yapılmamıştır.\n",
            "Sanık hakkında sonuç cezanın adli para cezası tayin edilmesi nedeniyle kasıtlı suçtan hapis cezasına mahkumiyetin kanuni sonucu olan TCK’nin 53/1. maddesinde yer alan hak yoksunluklarının uygulanamayacağının gözetilmemesi,\n",
            "Bozmayı gerektirmiş, sanık müdafiinin temyiz sebepleri bu itibarla yerinde görülmüş olduğundan hükmün bu nedenle, 6723 sayılı Kanun’un 33. maddesiyle değişik 5320 sayılı Kanun’un 8/1. maddesi ile yürürlükte bulunan 1412 sayılı\n",
            "\n",
            "\n",
            "\n",
            "CMUK’un 321. maddesi uyarınca BOZULMASINA, ancak bu husus yeniden yargılamayı gerektirmediğinden CMUK’un 322. maddesi gereğince, hüküm fıkrasının TCK'nin 53. maddesi uyarınca hak yoksunluğu uygulanmasına ilişkin paragrafının hükümden çıkartılması suretiyle hükmün DÜZELTİLEREK ONANMASINA,\n",
            "3) Sanık hakkında katılana karşı kasten yaralama suçundan verilen mahkumiyet hükmüne yönelik temyiz sebeplerinin incelenmesinde;\n",
            "\n",
            "a) ... Adli Tıp Şube Müdürlüğünün 03.03.2016 tarihli raporuna göre, sanığın eylemi nedeniyle katılanın, yaşamını tehlikeye sokan bir duruma ve hayat fonksiyonlarını ağır (5.) derecede etkileyen kemik kırığına neden olacak şekilde yaralandığı olayda, sanığın en ağır cezayı gerektiren katılanın hayati tehlike geçirecek şekilde yaralanması nedeniyle TCK'nin 86/1, 86/3-e, 87/1-d-son maddeleri gereğince ceza verilmesi gerekirken mahkemece, TCK'nin 87/3. maddesi gereğince de ayrıca artırım yapılmak suretiyle fazla ceza tayini,\n",
            "b) Sanığın, katılanı, hem yaşamını tehlikeye sokan bir duruma hem de ağır (5.) derecede kemik kırığına neden olacak şekilde yaraladığı olayda, birden fazla nitelikli halin birleşmesi halinde sanığa verilecek cezanın TCK'nin 87. maddesi uyarınca ancak bir kez arttırılabileceği, bu durumun TCK’nin 86/1. maddesi uyarınca temel ceza belirlenirken, TCK'nin 61. maddesindeki ölçütler ve TCK'nin 3. maddesindeki cezada orantılılık ilkesi gereğince hakkaniyete uygun ve sonuca etkili olacak şekilde alt sınırdan uzaklaşılması gerektiğinin gözetilmemesi,\n",
            "c) Oluşa ve dosya kapsamına göre, sanığın katılana yönelik silahla tehdit suçundan ... 1. Asliye Ceza Mahkemesinde görülen bir davanın bulunması ve olay günü alacağını almak için katılanı arabasına alarak Kabataş Mezarlığı civarına götürmesi karşısında katılandan sanığa yönelik başkaca kanıtlanmış söz ve davranış bulunmadığı halde, katılanın yüksek meblağlı borcunu ödememekte ısrar etmesinden bahisle özel hukuk ilişkisinin haksız tahrik indirimine gerekçe yapılmak suretiyle sanık hakkında eksik ceza tayini,\n",
            "d) Sanık hakkında hüküm kurulurken, 5237 sayılı TCK'nin 86/1. maddesi gereğince belirlenen \"1 yıl 6 ay\" hapis cezası üzerinden, TCK'nin 86/3-e maddesine göre (1/2) oranında arttırım yapılırken ''1 yıl 15 ay'' hapis yerine hesap hatası yapılarak ''2 yıl 3 ay'' hapis cezası hükmolunması devamında TCK'nin 87/1-d. maddesi gereği bir kat arttırım yapılırken \"2 yıl 30 ay\" hapis cezası yerine \"4 yıl 6 ay\" hapis cezasına hükmolunması, TCK'nin 87/3. maddesi gereği (1/2) oranında arttırım yapılırken \"3 yıl 45 ay\" hapis cezası yerine \"6 yıl 9 ay\" hapis cezasına hükmolunması, TCK'nin 29. maddesi gereği (1/4) oranında indirim yapılırken \"3 yıl 24 ay 21 gün\" hapis cezası yerine \"5 yıl 22 gün\" hapis cezasına hükmolunması,\n",
            "\n",
            "\n",
            "\n",
            "devamında TCK'nin 62. maddesi gereği (1/6) oranında indirim yapılırken \"3 yıl 14 ay 17 gün\" hapis cezası yerine \"4 yıl 2 ay 18 gün\" hapis cezasına hükmolunması suretiyle sanık hakkında fazla ceza tayini,\n",
            "Bozmayı gerektirmiş, sanık müdafiinin ve katılan vekilinin temyiz sebepleri bu itibarla yerinde görülmüş olduğundan, hükmün bu sebeplerden 6723 sayılı Kanun'un 33. maddesiyle değişik 5320 sayılı Kanun'un 8/1. maddesi ile yürürlükte bulunan 1412 sayılı CMUK'un 321. maddesi uyarınca BOZULMASINA, 13.04.2021 gününde oy birliğiyle karar verildi.\n",
            "------------------------------\n",
            " Mahalli mahkemece verilen hükümler temyiz edilmekle evrak okunarak; Gereği görüşülüp düşünüldü: 1) Sanık hakkında sayılı Kanun'a aykırılık suçundan verilen mahkumiyet hükmüne yönelik katılan vekilinin temyiz sebeplerinin incelenmesinde; sayılı Kanun’a aykırılık suçu yönünden katılanın doğrudan suçtan zarar görmesi mümkün olmadığından açılmış davaya katılma hakkı bulunmadığından, katılan vekilinin sayılı Kanun’a aykırılık suçu yönünden temyiz isteminin sayılı Kanun’un 33. maddesi değişik sayılı Kanun’un 8/1. maddesi yürürlükte bulunan sayılı CMUK'un 317. maddesi uyarınca REDDİNE, 2) Sanık hakkında sayılı Kanun'a aykırılık suçundan verilen mahkumiyet hükmüne yönelik sanık müdafiinin temyiz sebeplerinin incelenmesinde; Adli para cezasının ödenmemesi halinde izlenecek yöntem sayılı Kanun'la değişik sayılı Kanun'un 106/3. maddesinde düzenlendiğinden husus infaz aşamasında dikkate alınabileceğinden bozma nedeni yapılmamıştır. Sanık hakkında sonuç cezanın adli para cezası tayin edilmesi nedeniyle kasıtlı suçtan hapis cezasına mahkumiyetin kanuni sonucu olan TCK’nin 53/1. maddesinde yer alan hak yoksunluklarının uygulanamayacağının gözetilmemesi, Bozmayı gerektirmiş, sanık müdafiinin temyiz sebepleri itibarla yerinde görülmüş olduğundan hükmün nedenle, sayılı Kanun’un 33. maddesiyle değişik sayılı Kanun’un 8/1. maddesi yürürlükte bulunan sayılı CMUK’un 321. maddesi uyarınca BOZULMASINA, ancak husus yeniden yargılamayı gerektirmediğinden CMUK’un 322. maddesi gereğince, hüküm fıkrasının TCK'nin 53. maddesi uyarınca hak yoksunluğu uygulanmasına ilişkin paragrafının hükümden çıkartılması suretiyle hükmün DÜZELTİLEREK ONANMASINA, 3) Sanık hakkında katılana karşı kasten yaralama suçundan verilen mahkumiyet hükmüne yönelik temyiz sebeplerinin incelenmesinde; a) ... Adli Tıp Şube Müdürlüğünün 03.03.2016 tarihli raporuna göre, sanığın eylemi nedeniyle katılanın, yaşamını tehlikeye sokan bir duruma hayat fonksiyonlarını ağır (5.) derecede etkileyen kemik kırığına olacak şekilde yaralandığı olayda, sanığın ağır cezayı gerektiren katılanın hayati tehlike geçirecek şekilde yaralanması nedeniyle TCK'nin 86/1, 86/3-e, 87/1-d-son maddeleri gereğince ceza verilmesi gerekirken mahkemece, TCK'nin 87/3. maddesi gereğince ayrıca artırım yapılmak suretiyle fazla ceza tayini, b) Sanığın, katılanı, yaşamını tehlikeye sokan bir duruma ağır (5.) derecede kemik kırığına olacak şekilde yaraladığı olayda, birden fazla nitelikli halin birleşmesi halinde sanığa verilecek cezanın TCK'nin 87. maddesi uyarınca ancak bir arttırılabileceği, durumun TCK’nin 86/1. maddesi uyarınca temel ceza belirlenirken, TCK'nin 61. maddesindeki ölçütler TCK'nin 3. maddesindeki cezada orantılılık ilkesi gereğince hakkaniyete uygun sonuca etkili olacak şekilde alt sınırdan uzaklaşılması gerektiğinin gözetilmemesi, c) Oluşa dosya kapsamına göre, sanığın katılana yönelik silahla tehdit suçundan ... 1. Asliye Ceza Mahkemesinde görülen bir davanın bulunması olay günü alacağını almak katılanı arabasına alarak Kabataş Mezarlığı civarına götürmesi karşısında katılandan sanığa yönelik başkaca kanıtlanmış söz davranış bulunmadığı halde, katılanın yüksek meblağlı borcunu ödememekte ısrar etmesinden bahisle özel hukuk ilişkisinin haksız tahrik indirimine gerekçe yapılmak suretiyle sanık hakkında eksik ceza tayini, d) Sanık hakkında hüküm kurulurken, sayılı TCK'nin 86/1. maddesi gereğince belirlenen \"1 yıl ay\" hapis cezası üzerinden, TCK'nin 86/3-e maddesine göre (1/2) oranında arttırım yapılırken ''1 yıl ay'' hapis yerine hesap hatası yapılarak ''2 yıl ay'' hapis cezası hükmolunması devamında TCK'nin 87/1-d. maddesi gereği bir kat arttırım yapılırken \"2 yıl ay\" hapis cezası yerine \"4 yıl ay\" hapis cezasına hükmolunması, TCK'nin 87/3. maddesi gereği (1/2) oranında arttırım yapılırken \"3 yıl ay\" hapis cezası yerine \"6 yıl ay\" hapis cezasına hükmolunması, TCK'nin 29. maddesi gereği (1/4) oranında indirim yapılırken \"3 yıl ay gün\" hapis cezası yerine \"5 yıl gün\" hapis cezasına hükmolunması, devamında TCK'nin 62. maddesi gereği (1/6) oranında indirim yapılırken \"3 yıl ay gün\" hapis cezası yerine \"4 yıl ay gün\" hapis cezasına hükmolunması suretiyle sanık hakkında fazla ceza tayini, Bozmayı gerektirmiş, sanık müdafiinin katılan vekilinin temyiz sebepleri itibarla yerinde görülmüş olduğundan, hükmün sebeplerden sayılı Kanun'un 33. maddesiyle değişik sayılı Kanun'un 8/1. maddesi yürürlükte bulunan sayılı CMUK'un 321. maddesi uyarınca BOZULMASINA, 13.04.2021 gününde oy birliğiyle karar verildi. \n",
            "********************\n",
            "Taraflar arasında görülen davada;\n",
            "Davacı, mirasbırakan babası ...’ın 654 ada 7 parsel sayılı taşınmazdaki 5/16 payını davalı torunu ...’e satış suretiyle temlik ettiğini, temlikin mirasçılardan mal kaçırma amaçlı ve muvazaalı olduğunu ileri sürerek çekişmeli payın tapusunun iptali ile miras payı oranında adına tescilini, olmadığı takdirde tenkisini istemiş; yargılama sırasında, muvazaa hukuksal nedeni yanında ıslah suretiyle ehliyetsizlik hukuksal nedenine de dayanmıştır.\n",
            "Davalı, mirasbırakan ve eşine uzun süre baktığı ve giderlerini karşıladığı için dava konusu payın devredildiğini, öte yandan mirasbırakanın denkleştirme yapmayı amaçladığını, yüklü miktarda borcunu ödemek suretiyle mirasbırakanın davacıya da kazandırmada bulunduğunu, mal kaçırmadığını bildirip davanın reddini savunmuştur.\n",
            "Temlik tarihinde mirasbırakanın hukuki ehliyetinin bulunduğunun Adli Tıp Kurumu raporu ile tespit edildiği; diğer taraftan, semenin mutlaka para olması gerekmediği, davalının mirasbırakan ve eşine baktığı, bakım karşılığı çekişmeli taşınmazın devredildiği, muvazaanın söz konusu olmadığı gerekçesiyle davanın reddine ilişkin mahkeme kararı Dairece, temlikin mirasçılardan mal kaçırma amaçlı ve muvazaalı olduğuna, davanın kabulüne karar verilmesi gerektiğine değinilerek bozulmuş; mahkemece bozmaya uyularak yapılan yargılama sonucunda davanın kabulüne karar verilmiştir.\n",
            "Karar, davalı tarafından süresinde duruşma istekli temyiz edilmiş olmakla, duruşma günü olarak saptanan 08.03.2021 Perşembe günü için yapılan tebligat üzerine temyiz eden davalı vekili Avukat gelmedi, temyiz edilen davacı vekili Avukat ... geldiler, duruşmaya başlandı, süresinde verildiği ve kayıt olunduğu anlaşılan temyiz dilekçesinin kabulüne karar verildikten sonra gelen vekillerin sözlü açıklamaları dinlendi, duruşmanın bittiği bildirildi, iş karara bırakıldı. Bilahare Tetkik Hakimi ... tarafından düzenlenen rapor okundu, düşüncesi alındı. Dosya incelenerek gereği görüşülüp düşünüldü\n",
            "------------------------------\n",
            " Taraflar arasında görülen davada; Davacı, mirasbırakan babası ...’ın ada parsel sayılı taşınmazdaki 5/16 payını davalı torunu ...’e satış suretiyle temlik ettiğini, temlikin mirasçılardan mal kaçırma amaçlı muvazaalı olduğunu ileri sürerek çekişmeli payın tapusunun iptali miras payı oranında adına tescilini, olmadığı takdirde tenkisini istemiş; yargılama sırasında, muvazaa hukuksal nedeni yanında ıslah suretiyle ehliyetsizlik hukuksal nedenine dayanmıştır. Davalı, mirasbırakan eşine uzun süre baktığı giderlerini karşıladığı dava konusu payın devredildiğini, öte yandan mirasbırakanın denkleştirme yapmayı amaçladığını, yüklü miktarda borcunu ödemek suretiyle mirasbırakanın davacıya kazandırmada bulunduğunu, mal kaçırmadığını bildirip davanın reddini savunmuştur. Temlik tarihinde mirasbırakanın hukuki ehliyetinin bulunduğunun Adli Tıp Kurumu raporu tespit edildiği; diğer taraftan, semenin mutlaka para olması gerekmediği, davalının mirasbırakan eşine baktığı, bakım karşılığı çekişmeli taşınmazın devredildiği, muvazaanın söz konusu olmadığı gerekçesiyle davanın reddine ilişkin mahkeme kararı Dairece, temlikin mirasçılardan mal kaçırma amaçlı muvazaalı olduğuna, davanın kabulüne karar verilmesi gerektiğine değinilerek bozulmuş; mahkemece bozmaya uyularak yapılan yargılama sonucunda davanın kabulüne karar verilmiştir. Karar, davalı tarafından süresinde duruşma istekli temyiz edilmiş olmakla, duruşma günü olarak saptanan 08.03.2021 Perşembe günü yapılan tebligat üzerine temyiz eden davalı vekili Avukat gelmedi, temyiz edilen davacı vekili Avukat ... geldiler, duruşmaya başlandı, süresinde verildiği kayıt olunduğu anlaşılan temyiz dilekçesinin kabulüne karar verildikten sonra gelen vekillerin sözlü açıklamaları dinlendi, duruşmanın bittiği bildirildi, iş karara bırakıldı. Bilahare Tetkik Hakimi ... tarafından düzenlenen rapor okundu, düşüncesi alındı. Dosya incelenerek gereği görüşülüp düşünüldü \n",
            "********************\n"
          ],
          "name": "stdout"
        }
      ]
    },
    {
      "cell_type": "code",
      "metadata": {
        "colab": {
          "base_uri": "https://localhost:8080/"
        },
        "id": "_7IkUZBnAOgD",
        "outputId": "bb63056a-ee7b-4417-d300-8ef8d4dd58ad"
      },
      "source": [
        "for d in hukuk['Karar'].head():\n",
        "    print(d+ '\\n------------------------------')\n",
        "    # Noktalama işaretleri atma\n",
        "    temp= ''\n",
        "    for word in d:\n",
        "        if word not in noktalama:\n",
        "            temp += word\n",
        "    print(temp+ '\\n********************')\n",
        "    "
      ],
      "execution_count": null,
      "outputs": [
        {
          "output_type": "stream",
          "text": [
            "Sanığın, borcuna karşılık olarak katılana verdiği 15.07.2009 tarihli 9.543 TL bedelli çeki ödeyip katılandan geri aldığı, katılanın çekin arkasında cirosunun bulunduğu, sanığın geri aldığı çekin miktar kısmını 39.543 TL olarak, tarihini de 15.09.2009 olarak değiştirdikten sonra yeninden ciro ederek ...’a verdiği, çekin ... tarafından katılan ve sanık aleyhine icraya konulduğu, sanığın çek üzerinde tahrifat yapmak suretiyle resmi belgede sahtecilik suçunu işlediği iddiasıyla açılan kamu davasında; katılanın sanıktan aldığı çeki ciro ederek borcuna karşılık ... isimli kişiye verdiği daha sonra borcunu ödeyerek geri aldığı çeki, arkasında kendi cirosu bulunduğu halde sanığa geri verdiği ve karşılığında demir alarak çek bedelinin katılana ödendiği, katılanın bu çek sebebiyle herhangi bir borcunun olmadığının sanık tarafından bilindiği halde, çek üzerinde katılanın bilgisi ve rızası olmaksızın miktar ve tarih kısmının değiştirilerek başkasına ciro edilerek katılanın borçlu konumuna getirildiği, sanığın eylemin bu şekilde gerçekleştiğine dair kabulünün de bulunduğu olayda öncelikle suça konu çek aslının duruşmaya getirtilip incelenmek suretiyle, özellikleri duruşma tutanağına yazıldıktan ve denetime olanak verecek şekilde dosyada bulundurulduktan sonra, yasal unsurları taşıyıp taşımadığı ve iğfal kabiliyetinin bulunup bulunmadığı yöntemince araştırılıp aldatıcı niteliğinin bulunduğunun anlaşılması halinde sübut bulan resmi belgede sahtecilik suçundan mahkumiyet hükmü kurulması gerekirken eksik inceleme ve yetersiz gerekçe ile eylemin ikiye bölünerek resmi belgede sahtecilik ve bedelsiz kalmış senedi tahsile koymak suçlarından beraat hükümleri kurulması,\n",
            "Yasaya aykırı, katılan vekilinin temyiz talepleri bu itibarla yerinde görülmüş olduğundan, hükmün bu sebeplerden dolayı 5320 sayılı Yasanın 8/1. maddesi gereğince uygulanması gereken 1412 sayılı CMUK'nin 321. maddesi uyarınca BOZULMASINA, 20.04.2021 tarihinde oybirliğiyle karar verildi.\n",
            "------------------------------\n",
            "Sanığın borcuna karşılık olarak katılana verdiği 15072009 tarihli 9543 TL bedelli çeki ödeyip katılandan geri aldığı katılanın çekin arkasında cirosunun bulunduğu sanığın geri aldığı çekin miktar kısmını 39543 TL olarak tarihini de 15092009 olarak değiştirdikten sonra yeninden ciro ederek ’a verdiği çekin  tarafından katılan ve sanık aleyhine icraya konulduğu sanığın çek üzerinde tahrifat yapmak suretiyle resmi belgede sahtecilik suçunu işlediği iddiasıyla açılan kamu davasında katılanın sanıktan aldığı çeki ciro ederek borcuna karşılık  isimli kişiye verdiği daha sonra borcunu ödeyerek geri aldığı çeki arkasında kendi cirosu bulunduğu halde sanığa geri verdiği ve karşılığında demir alarak çek bedelinin katılana ödendiği katılanın bu çek sebebiyle herhangi bir borcunun olmadığının sanık tarafından bilindiği halde çek üzerinde katılanın bilgisi ve rızası olmaksızın miktar ve tarih kısmının değiştirilerek başkasına ciro edilerek katılanın borçlu konumuna getirildiği sanığın eylemin bu şekilde gerçekleştiğine dair kabulünün de bulunduğu olayda öncelikle suça konu çek aslının duruşmaya getirtilip incelenmek suretiyle özellikleri duruşma tutanağına yazıldıktan ve denetime olanak verecek şekilde dosyada bulundurulduktan sonra yasal unsurları taşıyıp taşımadığı ve iğfal kabiliyetinin bulunup bulunmadığı yöntemince araştırılıp aldatıcı niteliğinin bulunduğunun anlaşılması halinde sübut bulan resmi belgede sahtecilik suçundan mahkumiyet hükmü kurulması gerekirken eksik inceleme ve yetersiz gerekçe ile eylemin ikiye bölünerek resmi belgede sahtecilik ve bedelsiz kalmış senedi tahsile koymak suçlarından beraat hükümleri kurulması\n",
            "Yasaya aykırı katılan vekilinin temyiz talepleri bu itibarla yerinde görülmüş olduğundan hükmün bu sebeplerden dolayı 5320 sayılı Yasanın 81 maddesi gereğince uygulanması gereken 1412 sayılı CMUKnin 321 maddesi uyarınca BOZULMASINA 20042021 tarihinde oybirliğiyle karar verildi\n",
            "********************\n",
            "Sanık hakkında tekerrüre esas alınan ilamdaki TCK'nin 141/1. maddesinde düzenlenen ''basit hırsızlık'' suçu, 02.12.2016 tarihli Resmi Gazete'de yayımlanarak aynı tarihte yürürlüğe giren 6763 sayılı Kanun'un 34. maddesiyle değişik 5271 sayılı CMK'nin 253. maddesi gereğince uzlaşma kapsamına alınmış ise de, sanığın güncel adli sicil kaydının incelenmesinde, tekerrüre esas başkaca ilamının bulunduğu görülmekle, bu hususun infaz aşamasında değerlendirilmesi mümkün bulunduğundan tebliğnamedeki bozma düşüncesine iştirak edilmemiştir.\n",
            "Yerinde görülmeyen diğer temyiz sebeplerinin reddine, ancak;\n",
            "1)Sanığın yargılama konusu eyleminin, 5237 sayılı TCK’nin 86/2. maddesi kapsamında yer alan “Basit Kasten Yaralama” suçuna ilişkin olduğu, bahse konu eylem yönünden öngörülen ceza miktarının \"dört aydan bir yıla kadar hapis veya adli para cezasına\" ilişkin olduğu anlaşılmakla; 17/10/2019 tarih ve 7188 sayılı Kanun’un 24. maddesi ile yeniden düzenlenen 5271 sayılı CMK’nin 251/1. maddesine göre, “Asliye Ceza Mahkemesince, iddianamenin kabulünden sonra adli para cezasını ve/veya üst sınırı iki yıl veya daha az süreli hapis cezasını gerektiren suçlarda basit yargılama usulünün uygulanmasına karar verilebilir.” şeklindeki hükme, 7188 sayılı Kanun’un 31. maddesinde yer alan geçici 5/1-d. maddesi ile “01/01/2020 tarihi itibariyle kovuşturma evresine geçilmiş, hükme bağlanmış veya kesinleşmiş dosyalarda seri muhakeme usulü ile basit yargılama usulü uygulanmaz.” şeklinde sınırlama getirilmiş ise de, Anayasa Mahkemesinin, 19/08/2020 tarih ve 31218 sayılı Resmi Gazete’de yayımlanan, 25/06/2020 tarihli, 2020/16 Esas ve 2020/33 Karar sayılı iptal kararı ile “...kovuşturma evresine geçilmiş...” ibaresine ilişkin esas incelemenin aynı bentte yer\n",
            "\n",
            "alan “...basit yargılama usulü...” yönünden Anayasa'ya aykırı olduğuna ve iptaline karar verildiği, böylece “kovuşturma evresine geçilmiş basit yargılama usulü uygulanabilecek dosyalar yönünden iptal kararı” verildiği anlaşılmakla; her ne kadar Anayasa Mahkemesi kararları geriye yürümez ise de, CMK’de yapılan değişikliklerin derhal uygulanması ilkesi geçerli olsa da, iptal kararının sonuçları itibariyle Maddi Ceza Hukukuna ilişkin olduğu, zira CMK’nin 251/3. maddesinde “Basit yargılama usulü uygulanan dosyalarda sonuç ceza dörtte bir oranında indirilir” şeklindeki düzenleme gereği maddi ceza hukuku anlamında sanık lehine sonuç doğurmaya elverişli olduğundan, Avrupa İnsan Hakları Mahkemesi Büyük Dairesinin (Scoppola v İtalya (No: 3 – GC), No: 126/05, 22 Mayıs 2012) kararında belirtildiği üzere, Avrupa İnsan Hakları Sözleşmesinin “Kanunsuz ceza olmaz” başlıklı 7. maddesi, Türkiye Cumhuriyeti Anayasasının “Suç ve cezalara ilişkin esaslar” başlıklı 38. maddesi ile 5237 sayılı TCK'nin 7. ve 5271 sayılı CMK’nin 251. maddeleri uyarınca dosyanın “Basit Yargılama Usulü” yönünden değerlendirilmesinde zorunluluk bulunması,\n",
            "2)Sanık hakkında 5237 sayılı TCK'nin 61. maddesi uyarınca temel ceza belirlenirken söz konusu maddenin 1. fıkrasında yedi bent halinde sayılan hususlarla aynı Kanun'un 3. maddesinin 1. fıkrasındaki \"suç işleyen kişi hakkında işlenen fiilin ağırlığıyla orantılı ceza ve güvenlik tedbirine hükmolunur\" şeklindeki yasal düzenlemeler ile dosyaya yansıyan bilgi ve kanıtlar birlikte ve isabetle değerlendirilip, suç kastındaki yoğunluk, suç konusunun önem ve değeri, meydana gelen zararın ağırlığı gözetilerek ilgili kanun maddesindeki cezanın alt ve üst sınırları arasında takdir hakkının kullanılması gerekirken, sanığın borç para verme meselesinden tartıştığı müştekiye eliyle vurarak darp-cebir raporunda belirtildiği üzere ''sol dirsek arka eklem üzerinde 2x3 cm'lik alanda sıyrık, ekimoz, ödem ve hassasiyet mevcut olup'' basit tıbbi müdahale ile giderilebilecek şekilde yaraladığının anlaşılması karşısında; 5237 sayılı TCK'nin 86/2. maddesi uyarınca temel cezanın üst sınırdan tayin edilmesi suretiyle orantılılık ilkesine aykırı davranılması,\n",
            "Bozmayı gerektirmiş, sanık ve müdafiinin temyiz sebepleri bu itibarla yerinde görülmüş olduğundan hükmün bu nedenlerle 6723 sayılı Kanun'un 33. maddesiyle değişik 5320 sayılı Kanun'un 8/1. maddesi ile yürürlükte bulunan 1412 sayılı CMUK’un 321. maddesi uyarınca BOZULMASINA, 14.04.2021 gününde oy birliğiyle karar verildi.\n",
            "------------------------------\n",
            "Sanık hakkında tekerrüre esas alınan ilamdaki TCKnin 1411 maddesinde düzenlenen basit hırsızlık suçu 02122016 tarihli Resmi Gazetede yayımlanarak aynı tarihte yürürlüğe giren 6763 sayılı Kanunun 34 maddesiyle değişik 5271 sayılı CMKnin 253 maddesi gereğince uzlaşma kapsamına alınmış ise de sanığın güncel adli sicil kaydının incelenmesinde tekerrüre esas başkaca ilamının bulunduğu görülmekle bu hususun infaz aşamasında değerlendirilmesi mümkün bulunduğundan tebliğnamedeki bozma düşüncesine iştirak edilmemiştir\n",
            "Yerinde görülmeyen diğer temyiz sebeplerinin reddine ancak\n",
            "1Sanığın yargılama konusu eyleminin 5237 sayılı TCK’nin 862 maddesi kapsamında yer alan “Basit Kasten Yaralama” suçuna ilişkin olduğu bahse konu eylem yönünden öngörülen ceza miktarının dört aydan bir yıla kadar hapis veya adli para cezasına ilişkin olduğu anlaşılmakla 17102019 tarih ve 7188 sayılı Kanun’un 24 maddesi ile yeniden düzenlenen 5271 sayılı CMK’nin 2511 maddesine göre “Asliye Ceza Mahkemesince iddianamenin kabulünden sonra adli para cezasını veveya üst sınırı iki yıl veya daha az süreli hapis cezasını gerektiren suçlarda basit yargılama usulünün uygulanmasına karar verilebilir” şeklindeki hükme 7188 sayılı Kanun’un 31 maddesinde yer alan geçici 51d maddesi ile “01012020 tarihi itibariyle kovuşturma evresine geçilmiş hükme bağlanmış veya kesinleşmiş dosyalarda seri muhakeme usulü ile basit yargılama usulü uygulanmaz” şeklinde sınırlama getirilmiş ise de Anayasa Mahkemesinin 19082020 tarih ve 31218 sayılı Resmi Gazete’de yayımlanan 25062020 tarihli 202016 Esas ve 202033 Karar sayılı iptal kararı ile “kovuşturma evresine geçilmiş” ibaresine ilişkin esas incelemenin aynı bentte yer\n",
            "\n",
            "alan “basit yargılama usulü” yönünden Anayasaya aykırı olduğuna ve iptaline karar verildiği böylece “kovuşturma evresine geçilmiş basit yargılama usulü uygulanabilecek dosyalar yönünden iptal kararı” verildiği anlaşılmakla her ne kadar Anayasa Mahkemesi kararları geriye yürümez ise de CMK’de yapılan değişikliklerin derhal uygulanması ilkesi geçerli olsa da iptal kararının sonuçları itibariyle Maddi Ceza Hukukuna ilişkin olduğu zira CMK’nin 2513 maddesinde “Basit yargılama usulü uygulanan dosyalarda sonuç ceza dörtte bir oranında indirilir” şeklindeki düzenleme gereği maddi ceza hukuku anlamında sanık lehine sonuç doğurmaya elverişli olduğundan Avrupa İnsan Hakları Mahkemesi Büyük Dairesinin Scoppola v İtalya No 3 – GC No 12605 22 Mayıs 2012 kararında belirtildiği üzere Avrupa İnsan Hakları Sözleşmesinin “Kanunsuz ceza olmaz” başlıklı 7 maddesi Türkiye Cumhuriyeti Anayasasının “Suç ve cezalara ilişkin esaslar” başlıklı 38 maddesi ile 5237 sayılı TCKnin 7 ve 5271 sayılı CMK’nin 251 maddeleri uyarınca dosyanın “Basit Yargılama Usulü” yönünden değerlendirilmesinde zorunluluk bulunması\n",
            "2Sanık hakkında 5237 sayılı TCKnin 61 maddesi uyarınca temel ceza belirlenirken söz konusu maddenin 1 fıkrasında yedi bent halinde sayılan hususlarla aynı Kanunun 3 maddesinin 1 fıkrasındaki suç işleyen kişi hakkında işlenen fiilin ağırlığıyla orantılı ceza ve güvenlik tedbirine hükmolunur şeklindeki yasal düzenlemeler ile dosyaya yansıyan bilgi ve kanıtlar birlikte ve isabetle değerlendirilip suç kastındaki yoğunluk suç konusunun önem ve değeri meydana gelen zararın ağırlığı gözetilerek ilgili kanun maddesindeki cezanın alt ve üst sınırları arasında takdir hakkının kullanılması gerekirken sanığın borç para verme meselesinden tartıştığı müştekiye eliyle vurarak darpcebir raporunda belirtildiği üzere sol dirsek arka eklem üzerinde 2x3 cmlik alanda sıyrık ekimoz ödem ve hassasiyet mevcut olup basit tıbbi müdahale ile giderilebilecek şekilde yaraladığının anlaşılması karşısında 5237 sayılı TCKnin 862 maddesi uyarınca temel cezanın üst sınırdan tayin edilmesi suretiyle orantılılık ilkesine aykırı davranılması\n",
            "Bozmayı gerektirmiş sanık ve müdafiinin temyiz sebepleri bu itibarla yerinde görülmüş olduğundan hükmün bu nedenlerle 6723 sayılı Kanunun 33 maddesiyle değişik 5320 sayılı Kanunun 81 maddesi ile yürürlükte bulunan 1412 sayılı CMUK’un 321 maddesi uyarınca BOZULMASINA 14042021 gününde oy birliğiyle karar verildi\n",
            "********************\n",
            "1-Suça konu bonoların katılan tarafından iki imza atılmak suretiyle düzenlendiği anlaşılmakla; Yargıtay Hukuk Genel Kurulu'nun 2011/12-480 Esas ve 2011/598 Karar sayılı ilamında da belirtildiği üzere; bonoda borçtan sorumlu olmak için keşidecinin tek imzası yeterli olup birden fazla imza atılmasına gerek bulunmadığı ve 6762 sayılı TTK'nin 612. maddesi uyarınca açığa atılan ikinci imza aval olarak kabul edilip bu imza sahibi borçtan avalist sıfatıyla da şahsen sorumlu olacağı dikkate alındığında, sanığın katılanın düzenlediği bonolara yine katılanın adı soyadı ve adres bilgilerini yazarak icraya vermesi eyleminde, sahteciliğin “faydasız sahtecilik” olarak nitelendirilmesi gerektiği dolayısıyla atılı resmi belgede sahtecilik suçunun unsurlarının oluşmadığı ve beraatine karar verilmesi gerektiği gözetilmeden mahkumiyetine karar verilmesi,\n",
            "2- Kabule göre de;\n",
            "a) 5237 sayılı TCK'nin 43. maddesine göre \"Bir suç işleme kararının icrası kapsamında, değişik zamanlarda bir kişiye karşı aynı suçun birden fazla işlenmesi durumunda ya da aynı suçun birden fazla kişiye karşı tek bir fiille işlenmesi\" durumunda zincirleme suç hükümlerinin uygulanması mümkün olup; aynı anda gerçekleşen fiillerde zincirleme suça ilişkin hükümlerin uygulanma olanağı bulunmadığı, dosya kapsamına göre, suça konu belgelerin farklı tarihte düzenlendiğine dair delil bulunmadığı ve aynı anda kullanıldığının anlaşılması karşısında; 5237 sayılı TCK'nin 43. maddesi kapsamında zincirleme suç koşullarının oluşmadığı, ancak suça konu belge sayısı da nazara alınarak TCK'nin 61. maddesi uyarınca alt sınırdan uzaklaşmak suretiyle hüküm kurulması gerektiği gözetilmeden, zincirleme şekilde işlenmiş resmi belgede sahtecilik suçundan hüküm kurulması,\n",
            "b) 5237 sayılı TCK’nin 204/1 ve 43/1. maddeleri gereğince belirlenmiş olan 2 yıl 6 ay hapis cezasından, TCK’nin 62. maddesi uyarınca indirim yapılırken 2 yıl 1 ay hapis cezası yerine 1 yıl 13 ay hapis cezasına hükmolunmak suretiyle eksik ceza tayini,\n",
            "c) Adli emanetin 2014/1721 esas sırasına kayıtlı suça konu belgelerin dosyada delil olarak saklanması yerine müsaderesine karar verilmesi,\n",
            "d) 5237 sayılı TCK’nin 53. maddesine ilişkin uygulamanın Anayasa Mahkemesinin 08.10.2015 tarihli, 2014/140 Esas ve 2015/85 Karar sayılı iptal kararı ile birlikte yeniden değerlendirilmesinde zorunluluk bulunması,\n",
            "Bozmayı gerektirmiş, sanık müdafinin temyiz nedenleri bu itibarla yerinde görüldüğünden hükmün 5320 sayılı Kanun’un 8/1. maddesi gereğince uygulanması gereken CMUK'nin 321. maddesi uyarınca BOZULMASINA, sanığın ceza miktarı itibarıyla kazanılmış hakkının saklı tutulmasına, 14/04/2021 tarihinde oy birliği ile karar verildi.\n",
            "\n",
            "\n",
            "\n",
            "------------------------------\n",
            "1Suça konu bonoların katılan tarafından iki imza atılmak suretiyle düzenlendiği anlaşılmakla Yargıtay Hukuk Genel Kurulunun 201112480 Esas ve 2011598 Karar sayılı ilamında da belirtildiği üzere bonoda borçtan sorumlu olmak için keşidecinin tek imzası yeterli olup birden fazla imza atılmasına gerek bulunmadığı ve 6762 sayılı TTKnin 612 maddesi uyarınca açığa atılan ikinci imza aval olarak kabul edilip bu imza sahibi borçtan avalist sıfatıyla da şahsen sorumlu olacağı dikkate alındığında sanığın katılanın düzenlediği bonolara yine katılanın adı soyadı ve adres bilgilerini yazarak icraya vermesi eyleminde sahteciliğin “faydasız sahtecilik” olarak nitelendirilmesi gerektiği dolayısıyla atılı resmi belgede sahtecilik suçunun unsurlarının oluşmadığı ve beraatine karar verilmesi gerektiği gözetilmeden mahkumiyetine karar verilmesi\n",
            "2 Kabule göre de\n",
            "a 5237 sayılı TCKnin 43 maddesine göre Bir suç işleme kararının icrası kapsamında değişik zamanlarda bir kişiye karşı aynı suçun birden fazla işlenmesi durumunda ya da aynı suçun birden fazla kişiye karşı tek bir fiille işlenmesi durumunda zincirleme suç hükümlerinin uygulanması mümkün olup aynı anda gerçekleşen fiillerde zincirleme suça ilişkin hükümlerin uygulanma olanağı bulunmadığı dosya kapsamına göre suça konu belgelerin farklı tarihte düzenlendiğine dair delil bulunmadığı ve aynı anda kullanıldığının anlaşılması karşısında 5237 sayılı TCKnin 43 maddesi kapsamında zincirleme suç koşullarının oluşmadığı ancak suça konu belge sayısı da nazara alınarak TCKnin 61 maddesi uyarınca alt sınırdan uzaklaşmak suretiyle hüküm kurulması gerektiği gözetilmeden zincirleme şekilde işlenmiş resmi belgede sahtecilik suçundan hüküm kurulması\n",
            "b 5237 sayılı TCK’nin 2041 ve 431 maddeleri gereğince belirlenmiş olan 2 yıl 6 ay hapis cezasından TCK’nin 62 maddesi uyarınca indirim yapılırken 2 yıl 1 ay hapis cezası yerine 1 yıl 13 ay hapis cezasına hükmolunmak suretiyle eksik ceza tayini\n",
            "c Adli emanetin 20141721 esas sırasına kayıtlı suça konu belgelerin dosyada delil olarak saklanması yerine müsaderesine karar verilmesi\n",
            "d 5237 sayılı TCK’nin 53 maddesine ilişkin uygulamanın Anayasa Mahkemesinin 08102015 tarihli 2014140 Esas ve 201585 Karar sayılı iptal kararı ile birlikte yeniden değerlendirilmesinde zorunluluk bulunması\n",
            "Bozmayı gerektirmiş sanık müdafinin temyiz nedenleri bu itibarla yerinde görüldüğünden hükmün 5320 sayılı Kanun’un 81 maddesi gereğince uygulanması gereken CMUKnin 321 maddesi uyarınca BOZULMASINA sanığın ceza miktarı itibarıyla kazanılmış hakkının saklı tutulmasına 14042021 tarihinde oy birliği ile karar verildi\n",
            "\n",
            "\n",
            "\n",
            "********************\n",
            "Mahalli mahkemece verilen hükümler temyiz edilmekle evrak okunarak;\n",
            "Gereği görüşülüp düşünüldü:\n",
            "1) Sanık hakkında 6136 sayılı Kanun'a aykırılık suçundan verilen mahkumiyet hükmüne yönelik katılan vekilinin temyiz sebeplerinin incelenmesinde;\n",
            "\n",
            "6136 sayılı Kanun’a aykırılık suçu yönünden katılanın doğrudan suçtan zarar görmesi mümkün olmadığından ve açılmış davaya katılma hakkı bulunmadığından, katılan vekilinin 6136 sayılı Kanun’a aykırılık suçu yönünden temyiz isteminin 6723 sayılı Kanun’un 33. maddesi ile değişik 5320 sayılı Kanun’un 8/1. maddesi ile yürürlükte bulunan 1412 sayılı CMUK'un 317. maddesi uyarınca REDDİNE,\n",
            "2) Sanık hakkında 6136 sayılı Kanun'a aykırılık suçundan verilen mahkumiyet hükmüne yönelik sanık müdafiinin temyiz sebeplerinin incelenmesinde;\n",
            "Adli para cezasının ödenmemesi halinde izlenecek yöntem 6545 sayılı Kanun'la değişik 5275 sayılı Kanun'un 106/3. maddesinde düzenlendiğinden bu husus infaz aşamasında dikkate alınabileceğinden bozma nedeni yapılmamıştır.\n",
            "Sanık hakkında sonuç cezanın adli para cezası tayin edilmesi nedeniyle kasıtlı suçtan hapis cezasına mahkumiyetin kanuni sonucu olan TCK’nin 53/1. maddesinde yer alan hak yoksunluklarının uygulanamayacağının gözetilmemesi,\n",
            "Bozmayı gerektirmiş, sanık müdafiinin temyiz sebepleri bu itibarla yerinde görülmüş olduğundan hükmün bu nedenle, 6723 sayılı Kanun’un 33. maddesiyle değişik 5320 sayılı Kanun’un 8/1. maddesi ile yürürlükte bulunan 1412 sayılı\n",
            "\n",
            "\n",
            "\n",
            "CMUK’un 321. maddesi uyarınca BOZULMASINA, ancak bu husus yeniden yargılamayı gerektirmediğinden CMUK’un 322. maddesi gereğince, hüküm fıkrasının TCK'nin 53. maddesi uyarınca hak yoksunluğu uygulanmasına ilişkin paragrafının hükümden çıkartılması suretiyle hükmün DÜZELTİLEREK ONANMASINA,\n",
            "3) Sanık hakkında katılana karşı kasten yaralama suçundan verilen mahkumiyet hükmüne yönelik temyiz sebeplerinin incelenmesinde;\n",
            "\n",
            "a) ... Adli Tıp Şube Müdürlüğünün 03.03.2016 tarihli raporuna göre, sanığın eylemi nedeniyle katılanın, yaşamını tehlikeye sokan bir duruma ve hayat fonksiyonlarını ağır (5.) derecede etkileyen kemik kırığına neden olacak şekilde yaralandığı olayda, sanığın en ağır cezayı gerektiren katılanın hayati tehlike geçirecek şekilde yaralanması nedeniyle TCK'nin 86/1, 86/3-e, 87/1-d-son maddeleri gereğince ceza verilmesi gerekirken mahkemece, TCK'nin 87/3. maddesi gereğince de ayrıca artırım yapılmak suretiyle fazla ceza tayini,\n",
            "b) Sanığın, katılanı, hem yaşamını tehlikeye sokan bir duruma hem de ağır (5.) derecede kemik kırığına neden olacak şekilde yaraladığı olayda, birden fazla nitelikli halin birleşmesi halinde sanığa verilecek cezanın TCK'nin 87. maddesi uyarınca ancak bir kez arttırılabileceği, bu durumun TCK’nin 86/1. maddesi uyarınca temel ceza belirlenirken, TCK'nin 61. maddesindeki ölçütler ve TCK'nin 3. maddesindeki cezada orantılılık ilkesi gereğince hakkaniyete uygun ve sonuca etkili olacak şekilde alt sınırdan uzaklaşılması gerektiğinin gözetilmemesi,\n",
            "c) Oluşa ve dosya kapsamına göre, sanığın katılana yönelik silahla tehdit suçundan ... 1. Asliye Ceza Mahkemesinde görülen bir davanın bulunması ve olay günü alacağını almak için katılanı arabasına alarak Kabataş Mezarlığı civarına götürmesi karşısında katılandan sanığa yönelik başkaca kanıtlanmış söz ve davranış bulunmadığı halde, katılanın yüksek meblağlı borcunu ödememekte ısrar etmesinden bahisle özel hukuk ilişkisinin haksız tahrik indirimine gerekçe yapılmak suretiyle sanık hakkında eksik ceza tayini,\n",
            "d) Sanık hakkında hüküm kurulurken, 5237 sayılı TCK'nin 86/1. maddesi gereğince belirlenen \"1 yıl 6 ay\" hapis cezası üzerinden, TCK'nin 86/3-e maddesine göre (1/2) oranında arttırım yapılırken ''1 yıl 15 ay'' hapis yerine hesap hatası yapılarak ''2 yıl 3 ay'' hapis cezası hükmolunması devamında TCK'nin 87/1-d. maddesi gereği bir kat arttırım yapılırken \"2 yıl 30 ay\" hapis cezası yerine \"4 yıl 6 ay\" hapis cezasına hükmolunması, TCK'nin 87/3. maddesi gereği (1/2) oranında arttırım yapılırken \"3 yıl 45 ay\" hapis cezası yerine \"6 yıl 9 ay\" hapis cezasına hükmolunması, TCK'nin 29. maddesi gereği (1/4) oranında indirim yapılırken \"3 yıl 24 ay 21 gün\" hapis cezası yerine \"5 yıl 22 gün\" hapis cezasına hükmolunması,\n",
            "\n",
            "\n",
            "\n",
            "devamında TCK'nin 62. maddesi gereği (1/6) oranında indirim yapılırken \"3 yıl 14 ay 17 gün\" hapis cezası yerine \"4 yıl 2 ay 18 gün\" hapis cezasına hükmolunması suretiyle sanık hakkında fazla ceza tayini,\n",
            "Bozmayı gerektirmiş, sanık müdafiinin ve katılan vekilinin temyiz sebepleri bu itibarla yerinde görülmüş olduğundan, hükmün bu sebeplerden 6723 sayılı Kanun'un 33. maddesiyle değişik 5320 sayılı Kanun'un 8/1. maddesi ile yürürlükte bulunan 1412 sayılı CMUK'un 321. maddesi uyarınca BOZULMASINA, 13.04.2021 gününde oy birliğiyle karar verildi.\n",
            "------------------------------\n",
            "Mahalli mahkemece verilen hükümler temyiz edilmekle evrak okunarak\n",
            "Gereği görüşülüp düşünüldü\n",
            "1 Sanık hakkında 6136 sayılı Kanuna aykırılık suçundan verilen mahkumiyet hükmüne yönelik katılan vekilinin temyiz sebeplerinin incelenmesinde\n",
            "\n",
            "6136 sayılı Kanun’a aykırılık suçu yönünden katılanın doğrudan suçtan zarar görmesi mümkün olmadığından ve açılmış davaya katılma hakkı bulunmadığından katılan vekilinin 6136 sayılı Kanun’a aykırılık suçu yönünden temyiz isteminin 6723 sayılı Kanun’un 33 maddesi ile değişik 5320 sayılı Kanun’un 81 maddesi ile yürürlükte bulunan 1412 sayılı CMUKun 317 maddesi uyarınca REDDİNE\n",
            "2 Sanık hakkında 6136 sayılı Kanuna aykırılık suçundan verilen mahkumiyet hükmüne yönelik sanık müdafiinin temyiz sebeplerinin incelenmesinde\n",
            "Adli para cezasının ödenmemesi halinde izlenecek yöntem 6545 sayılı Kanunla değişik 5275 sayılı Kanunun 1063 maddesinde düzenlendiğinden bu husus infaz aşamasında dikkate alınabileceğinden bozma nedeni yapılmamıştır\n",
            "Sanık hakkında sonuç cezanın adli para cezası tayin edilmesi nedeniyle kasıtlı suçtan hapis cezasına mahkumiyetin kanuni sonucu olan TCK’nin 531 maddesinde yer alan hak yoksunluklarının uygulanamayacağının gözetilmemesi\n",
            "Bozmayı gerektirmiş sanık müdafiinin temyiz sebepleri bu itibarla yerinde görülmüş olduğundan hükmün bu nedenle 6723 sayılı Kanun’un 33 maddesiyle değişik 5320 sayılı Kanun’un 81 maddesi ile yürürlükte bulunan 1412 sayılı\n",
            "\n",
            "\n",
            "\n",
            "CMUK’un 321 maddesi uyarınca BOZULMASINA ancak bu husus yeniden yargılamayı gerektirmediğinden CMUK’un 322 maddesi gereğince hüküm fıkrasının TCKnin 53 maddesi uyarınca hak yoksunluğu uygulanmasına ilişkin paragrafının hükümden çıkartılması suretiyle hükmün DÜZELTİLEREK ONANMASINA\n",
            "3 Sanık hakkında katılana karşı kasten yaralama suçundan verilen mahkumiyet hükmüne yönelik temyiz sebeplerinin incelenmesinde\n",
            "\n",
            "a  Adli Tıp Şube Müdürlüğünün 03032016 tarihli raporuna göre sanığın eylemi nedeniyle katılanın yaşamını tehlikeye sokan bir duruma ve hayat fonksiyonlarını ağır 5 derecede etkileyen kemik kırığına neden olacak şekilde yaralandığı olayda sanığın en ağır cezayı gerektiren katılanın hayati tehlike geçirecek şekilde yaralanması nedeniyle TCKnin 861 863e 871dson maddeleri gereğince ceza verilmesi gerekirken mahkemece TCKnin 873 maddesi gereğince de ayrıca artırım yapılmak suretiyle fazla ceza tayini\n",
            "b Sanığın katılanı hem yaşamını tehlikeye sokan bir duruma hem de ağır 5 derecede kemik kırığına neden olacak şekilde yaraladığı olayda birden fazla nitelikli halin birleşmesi halinde sanığa verilecek cezanın TCKnin 87 maddesi uyarınca ancak bir kez arttırılabileceği bu durumun TCK’nin 861 maddesi uyarınca temel ceza belirlenirken TCKnin 61 maddesindeki ölçütler ve TCKnin 3 maddesindeki cezada orantılılık ilkesi gereğince hakkaniyete uygun ve sonuca etkili olacak şekilde alt sınırdan uzaklaşılması gerektiğinin gözetilmemesi\n",
            "c Oluşa ve dosya kapsamına göre sanığın katılana yönelik silahla tehdit suçundan  1 Asliye Ceza Mahkemesinde görülen bir davanın bulunması ve olay günü alacağını almak için katılanı arabasına alarak Kabataş Mezarlığı civarına götürmesi karşısında katılandan sanığa yönelik başkaca kanıtlanmış söz ve davranış bulunmadığı halde katılanın yüksek meblağlı borcunu ödememekte ısrar etmesinden bahisle özel hukuk ilişkisinin haksız tahrik indirimine gerekçe yapılmak suretiyle sanık hakkında eksik ceza tayini\n",
            "d Sanık hakkında hüküm kurulurken 5237 sayılı TCKnin 861 maddesi gereğince belirlenen 1 yıl 6 ay hapis cezası üzerinden TCKnin 863e maddesine göre 12 oranında arttırım yapılırken 1 yıl 15 ay hapis yerine hesap hatası yapılarak 2 yıl 3 ay hapis cezası hükmolunması devamında TCKnin 871d maddesi gereği bir kat arttırım yapılırken 2 yıl 30 ay hapis cezası yerine 4 yıl 6 ay hapis cezasına hükmolunması TCKnin 873 maddesi gereği 12 oranında arttırım yapılırken 3 yıl 45 ay hapis cezası yerine 6 yıl 9 ay hapis cezasına hükmolunması TCKnin 29 maddesi gereği 14 oranında indirim yapılırken 3 yıl 24 ay 21 gün hapis cezası yerine 5 yıl 22 gün hapis cezasına hükmolunması\n",
            "\n",
            "\n",
            "\n",
            "devamında TCKnin 62 maddesi gereği 16 oranında indirim yapılırken 3 yıl 14 ay 17 gün hapis cezası yerine 4 yıl 2 ay 18 gün hapis cezasına hükmolunması suretiyle sanık hakkında fazla ceza tayini\n",
            "Bozmayı gerektirmiş sanık müdafiinin ve katılan vekilinin temyiz sebepleri bu itibarla yerinde görülmüş olduğundan hükmün bu sebeplerden 6723 sayılı Kanunun 33 maddesiyle değişik 5320 sayılı Kanunun 81 maddesi ile yürürlükte bulunan 1412 sayılı CMUKun 321 maddesi uyarınca BOZULMASINA 13042021 gününde oy birliğiyle karar verildi\n",
            "********************\n",
            "Taraflar arasında görülen davada;\n",
            "Davacı, mirasbırakan babası ...’ın 654 ada 7 parsel sayılı taşınmazdaki 5/16 payını davalı torunu ...’e satış suretiyle temlik ettiğini, temlikin mirasçılardan mal kaçırma amaçlı ve muvazaalı olduğunu ileri sürerek çekişmeli payın tapusunun iptali ile miras payı oranında adına tescilini, olmadığı takdirde tenkisini istemiş; yargılama sırasında, muvazaa hukuksal nedeni yanında ıslah suretiyle ehliyetsizlik hukuksal nedenine de dayanmıştır.\n",
            "Davalı, mirasbırakan ve eşine uzun süre baktığı ve giderlerini karşıladığı için dava konusu payın devredildiğini, öte yandan mirasbırakanın denkleştirme yapmayı amaçladığını, yüklü miktarda borcunu ödemek suretiyle mirasbırakanın davacıya da kazandırmada bulunduğunu, mal kaçırmadığını bildirip davanın reddini savunmuştur.\n",
            "Temlik tarihinde mirasbırakanın hukuki ehliyetinin bulunduğunun Adli Tıp Kurumu raporu ile tespit edildiği; diğer taraftan, semenin mutlaka para olması gerekmediği, davalının mirasbırakan ve eşine baktığı, bakım karşılığı çekişmeli taşınmazın devredildiği, muvazaanın söz konusu olmadığı gerekçesiyle davanın reddine ilişkin mahkeme kararı Dairece, temlikin mirasçılardan mal kaçırma amaçlı ve muvazaalı olduğuna, davanın kabulüne karar verilmesi gerektiğine değinilerek bozulmuş; mahkemece bozmaya uyularak yapılan yargılama sonucunda davanın kabulüne karar verilmiştir.\n",
            "Karar, davalı tarafından süresinde duruşma istekli temyiz edilmiş olmakla, duruşma günü olarak saptanan 08.03.2021 Perşembe günü için yapılan tebligat üzerine temyiz eden davalı vekili Avukat gelmedi, temyiz edilen davacı vekili Avukat ... geldiler, duruşmaya başlandı, süresinde verildiği ve kayıt olunduğu anlaşılan temyiz dilekçesinin kabulüne karar verildikten sonra gelen vekillerin sözlü açıklamaları dinlendi, duruşmanın bittiği bildirildi, iş karara bırakıldı. Bilahare Tetkik Hakimi ... tarafından düzenlenen rapor okundu, düşüncesi alındı. Dosya incelenerek gereği görüşülüp düşünüldü\n",
            "------------------------------\n",
            "Taraflar arasında görülen davada\n",
            "Davacı mirasbırakan babası ’ın 654 ada 7 parsel sayılı taşınmazdaki 516 payını davalı torunu ’e satış suretiyle temlik ettiğini temlikin mirasçılardan mal kaçırma amaçlı ve muvazaalı olduğunu ileri sürerek çekişmeli payın tapusunun iptali ile miras payı oranında adına tescilini olmadığı takdirde tenkisini istemiş yargılama sırasında muvazaa hukuksal nedeni yanında ıslah suretiyle ehliyetsizlik hukuksal nedenine de dayanmıştır\n",
            "Davalı mirasbırakan ve eşine uzun süre baktığı ve giderlerini karşıladığı için dava konusu payın devredildiğini öte yandan mirasbırakanın denkleştirme yapmayı amaçladığını yüklü miktarda borcunu ödemek suretiyle mirasbırakanın davacıya da kazandırmada bulunduğunu mal kaçırmadığını bildirip davanın reddini savunmuştur\n",
            "Temlik tarihinde mirasbırakanın hukuki ehliyetinin bulunduğunun Adli Tıp Kurumu raporu ile tespit edildiği diğer taraftan semenin mutlaka para olması gerekmediği davalının mirasbırakan ve eşine baktığı bakım karşılığı çekişmeli taşınmazın devredildiği muvazaanın söz konusu olmadığı gerekçesiyle davanın reddine ilişkin mahkeme kararı Dairece temlikin mirasçılardan mal kaçırma amaçlı ve muvazaalı olduğuna davanın kabulüne karar verilmesi gerektiğine değinilerek bozulmuş mahkemece bozmaya uyularak yapılan yargılama sonucunda davanın kabulüne karar verilmiştir\n",
            "Karar davalı tarafından süresinde duruşma istekli temyiz edilmiş olmakla duruşma günü olarak saptanan 08032021 Perşembe günü için yapılan tebligat üzerine temyiz eden davalı vekili Avukat gelmedi temyiz edilen davacı vekili Avukat  geldiler duruşmaya başlandı süresinde verildiği ve kayıt olunduğu anlaşılan temyiz dilekçesinin kabulüne karar verildikten sonra gelen vekillerin sözlü açıklamaları dinlendi duruşmanın bittiği bildirildi iş karara bırakıldı Bilahare Tetkik Hakimi  tarafından düzenlenen rapor okundu düşüncesi alındı Dosya incelenerek gereği görüşülüp düşünüldü\n",
            "********************\n"
          ],
          "name": "stdout"
        }
      ]
    },
    {
      "cell_type": "markdown",
      "metadata": {
        "id": "eH1j3thzARbU"
      },
      "source": [
        "# Verileri Kayıt etme"
      ]
    },
    {
      "cell_type": "code",
      "metadata": {
        "id": "WvzyV2SiAQBf"
      },
      "source": [
        "hukuk.to_csv('/content/drive/Colab Notebooks/Hukuk/cleaned.csv', index = False)"
      ],
      "execution_count": null,
      "outputs": []
    },
    {
      "cell_type": "code",
      "metadata": {
        "colab": {
          "base_uri": "https://localhost:8080/"
        },
        "id": "yVFYUZGSAUs4",
        "outputId": "df637f83-4fee-4f56-dc36-4dc5709e958b"
      },
      "source": [
        "hukuk = pd.read_csv('/content/drive/Colab Notebooks/Hukuk/cleaned.csv')\n",
        "print(hukuk.head())"
      ],
      "execution_count": null,
      "outputs": [
        {
          "output_type": "stream",
          "text": [
            "                                                 Suc  ...                                              Hukum\n",
            "0  Resmi belgede sahtecilik, Bedelsiz kalmış sene...  ...                                             Beraat\n",
            "1                                    Kasten yaralama  ...                                         Mahkumiyet\n",
            "2                           Resmi belgede sahtecilik  ...                                        Mahkumiyet \n",
            "3      Kasten yaralama, 6136 sayılı kanuna aykırılık  ...                                         Mahkumiyet\n",
            "4                       TAPU İPTALİ VE TESCİL-TENKİS  ...  Hükmüne uyulan bozma kararında, gösterildiği ş...\n",
            "\n",
            "[5 rows x 3 columns]\n"
          ],
          "name": "stdout"
        }
      ]
    },
    {
      "cell_type": "markdown",
      "metadata": {
        "id": "bQuob4cuAYN2"
      },
      "source": [
        "# Veri Setini Bölme"
      ]
    },
    {
      "cell_type": "code",
      "metadata": {
        "colab": {
          "base_uri": "https://localhost:8080/"
        },
        "id": "eza6LMZ0AYjL",
        "outputId": "677b696f-c6b3-4344-be34-131bb3ecc631"
      },
      "source": [
        "# Arındırılmış veriyi train ve test kümelerine ayırıyoruz\n",
        "# Eğitim ve test olarak ayıracağız. train=eğitim, test=test\n",
        "\n",
        "X_train, X_test, y_train, y_test = train_test_split(hukuk['Karar'].values.astype('U'),hukuk['Hukum'].values.astype('U'), test_size=0.20, random_state=1)\n",
        "\n",
        "print(X_train.shape)\n",
        "print(X_test.shape)                                                                      "
      ],
      "execution_count": null,
      "outputs": [
        {
          "output_type": "stream",
          "text": [
            "(43,)\n",
            "(11,)\n"
          ],
          "name": "stdout"
        }
      ]
    },
    {
      "cell_type": "markdown",
      "metadata": {
        "id": "ITDrUMlIAZGg"
      },
      "source": [
        "# Sayma Vektörü Oluşturma"
      ]
    },
    {
      "cell_type": "code",
      "metadata": {
        "colab": {
          "base_uri": "https://localhost:8080/"
        },
        "id": "pU_b8S30AbPh",
        "outputId": "34cbb922-5a87-42cb-fc59-35dcd1bddc91"
      },
      "source": [
        "# Train kümesindeki cümlelerin sayma vektöelerini çıkarıyoruz\n",
        "count_vect = CountVectorizer(max_features = 2000000) # Burası önemli ram için\n",
        "X_train_counts = count_vect.fit_transform(X_train)\n",
        "print(X_train_counts.shape)"
      ],
      "execution_count": null,
      "outputs": [
        {
          "output_type": "stream",
          "text": [
            "(43, 3031)\n"
          ],
          "name": "stdout"
        }
      ]
    },
    {
      "cell_type": "markdown",
      "metadata": {
        "id": "dsonRUvEAb3i"
      },
      "source": [
        "# Tf*Idf vektörü oluşturma sadece o \"karara\" özgü(temsil edecek kelimler olmalı)"
      ]
    },
    {
      "cell_type": "code",
      "metadata": {
        "colab": {
          "base_uri": "https://localhost:8080/"
        },
        "id": "Dg9SDKYEAdnV",
        "outputId": "24288588-0e0c-458d-b3e1-7d352fc4cf4f"
      },
      "source": [
        "# Train kümesindeki cümlelerin TF*IDF vektörlerini sayma vekttörlerinden oluşturuyoruz\n",
        "# Tf= terim sıklığı, IDF= bir kelimenin dökümanda kaç kere geçtiği\n",
        "# TF*IDF bütün olarak; bir kelimenin bir döküman içinde ki önemini gösterir\n",
        "tfidf_transformer = TfidfTransformer()\n",
        "X_train_tfidf = tfidf_transformer.fit_transform(X_train_counts)\n",
        "print(X_train_tfidf.shape)"
      ],
      "execution_count": null,
      "outputs": [
        {
          "output_type": "stream",
          "text": [
            "(43, 3031)\n"
          ],
          "name": "stdout"
        }
      ]
    },
    {
      "cell_type": "markdown",
      "metadata": {
        "id": "oZGHyZkTAffQ"
      },
      "source": [
        "# Naive Bayes Model Eğitimi"
      ]
    },
    {
      "cell_type": "code",
      "metadata": {
        "id": "rHyNvJ6KAfpW"
      },
      "source": [
        "# Çok modlu Naive Bayes Sınıflandırıcısı eğitiyoruz\n",
        "clf = MultinomialNB().fit(X_train_tfidf, y_train)\n",
        "X_test_counts = count_vect.transform(X_test)\n",
        "X_test_tfidf = tfidf_transformer.transform(X_test_counts)"
      ],
      "execution_count": null,
      "outputs": []
    },
    {
      "cell_type": "markdown",
      "metadata": {
        "id": "1CRg2MeIAgSx"
      },
      "source": [
        "# Model Performansı Ölçme"
      ]
    },
    {
      "cell_type": "code",
      "metadata": {
        "colab": {
          "base_uri": "https://localhost:8080/"
        },
        "id": "nbO8dtKGAiKz",
        "outputId": "f2284776-a958-4f70-cc99-82a2d2cf9f3d"
      },
      "source": [
        "# Sınıflandırıcı ile test seti üzerindeki tahminleme yapıyoruz\n",
        "y_pred = clf.predict(X_test_tfidf)\n",
        "for review, sentiment in zip(X_test[:], y_pred[:]):\n",
        "  print('%r => %s' % (review, sentiment))"
      ],
      "execution_count": null,
      "outputs": [
        {
          "output_type": "stream",
          "text": [
            "\"6545 sayılı Kanun'un 81. maddesi ile değişik 5275 sayılı Kanun'un 106/3. maddesinde yer alan “Hükümlü, tebliğ olunan ödeme emri üzerine belli süre içinde adli para cezasını ödemezse, Cumhuriyet savcısının kararı ile ödenmeyen kısma karşılık gelen gün miktarı hapis cezasına çevrilerek...” ve 5237 sayılı TCK'nın 52/4. maddesindeki ''... kararda taksitlerden birinin zamanında ödenmemesi halinde geri kalan kısmının tamamının tahsil edileceği ve ödenmeyen adli para cezasının hapse çevrileceği belirtilir.'' şeklindeki düzenlemeler gözetildiğinde, tebliğnamedeki “ödenmeyen adli para cezasının hapse çevrileceğinin ihtarına” kısmının hüküm fıkrasından çıkartılmasına ilişkin görüşe iştirak edilmemiştir.\\nTCK'nın 53. maddesinin uygulanması ile ilgili olarak Anayasa Mahkemesi'nin 08.10.2015 tarih, 2014/140 esas ve 2015/85 sayılı kararı ve 7242 sayılı Kanun'la yapılan değişikliklerin infaz aşamasında gözetilmesi mümkün görülmüştür.\\nYargılama sürecindeki işlemlerin kanuna uygun olarak yapıldığı, delillerin gerekçeli kararda gösterilip tartışıldığı, vicdani kanının dosya içindeki belge ve bilgilerle uyumlu olarak kesin verilere dayandırıldığı, eylemin sanık tarafından gerçekleştirildiğinin saptandığı, eyleme uyan suç tipi ile yaptırımların doğru olarak belirlendiği anlaşıldığından, sanığın yerinde görülmeyen temyiz itirazlarının reddiyle, hükmün ONANMASINA, 20.04.2021 tarihinde oy birliği ile karar verildi.\" => Mahkumiyet\n",
            "'1-Suça konu bonoların katılan tarafından iki imza atılmak suretiyle düzenlendiği anlaşılmakla; Yargıtay Hukuk Genel Kurulu\\'nun 2011/12-480 Esas ve 2011/598 Karar sayılı ilamında da belirtildiği üzere; bonoda borçtan sorumlu olmak için keşidecinin tek imzası yeterli olup birden fazla imza atılmasına gerek bulunmadığı ve 6762 sayılı TTK\\'nin 612. maddesi uyarınca açığa atılan ikinci imza aval olarak kabul edilip bu imza sahibi borçtan avalist sıfatıyla da şahsen sorumlu olacağı dikkate alındığında, sanığın katılanın düzenlediği bonolara yine katılanın adı soyadı ve adres bilgilerini yazarak icraya vermesi eyleminde, sahteciliğin “faydasız sahtecilik” olarak nitelendirilmesi gerektiği dolayısıyla atılı resmi belgede sahtecilik suçunun unsurlarının oluşmadığı ve beraatine karar verilmesi gerektiği gözetilmeden mahkumiyetine karar verilmesi,\\n2- Kabule göre de;\\na) 5237 sayılı TCK\\'nin 43. maddesine göre \"Bir suç işleme kararının icrası kapsamında, değişik zamanlarda bir kişiye karşı aynı suçun birden fazla işlenmesi durumunda ya da aynı suçun birden fazla kişiye karşı tek bir fiille işlenmesi\" durumunda zincirleme suç hükümlerinin uygulanması mümkün olup; aynı anda gerçekleşen fiillerde zincirleme suça ilişkin hükümlerin uygulanma olanağı bulunmadığı, dosya kapsamına göre, suça konu belgelerin farklı tarihte düzenlendiğine dair delil bulunmadığı ve aynı anda kullanıldığının anlaşılması karşısında; 5237 sayılı TCK\\'nin 43. maddesi kapsamında zincirleme suç koşullarının oluşmadığı, ancak suça konu belge sayısı da nazara alınarak TCK\\'nin 61. maddesi uyarınca alt sınırdan uzaklaşmak suretiyle hüküm kurulması gerektiği gözetilmeden, zincirleme şekilde işlenmiş resmi belgede sahtecilik suçundan hüküm kurulması,\\nb) 5237 sayılı TCK’nin 204/1 ve 43/1. maddeleri gereğince belirlenmiş olan 2 yıl 6 ay hapis cezasından, TCK’nin 62. maddesi uyarınca indirim yapılırken 2 yıl 1 ay hapis cezası yerine 1 yıl 13 ay hapis cezasına hükmolunmak suretiyle eksik ceza tayini,\\nc) Adli emanetin 2014/1721 esas sırasına kayıtlı suça konu belgelerin dosyada delil olarak saklanması yerine müsaderesine karar verilmesi,\\nd) 5237 sayılı TCK’nin 53. maddesine ilişkin uygulamanın Anayasa Mahkemesinin 08.10.2015 tarihli, 2014/140 Esas ve 2015/85 Karar sayılı iptal kararı ile birlikte yeniden değerlendirilmesinde zorunluluk bulunması,\\nBozmayı gerektirmiş, sanık müdafinin temyiz nedenleri bu itibarla yerinde görüldüğünden hükmün 5320 sayılı Kanun’un 8/1. maddesi gereğince uygulanması gereken CMUK\\'nin 321. maddesi uyarınca BOZULMASINA, sanığın ceza miktarı itibarıyla kazanılmış hakkının saklı tutulmasına, 14/04/2021 tarihinde oy birliği ile karar verildi.\\n\\n\\n' => Mahkumiyet\n",
            "\"Yerinde görülmeyen diğer temyiz sebeplerinin reddine, ancak;\\nSanığın yargılama konusu eyleminin, 5237 sayılı TCK’nin 86/2. maddesi kapsamında yer alan “Basit Kasten Yaralama” suçuna ilişkin olduğu, bahse konu basit kasten yaralama eylemi yönünden öngörülen ceza miktarının “dört aydan bir yıla kadar hapis veya adli para cezası”na ilişkin olduğu anlaşılmakla; 17/10/2019 tarih ve 7188 sayılı Kanun’un 24. maddesi ile yeniden düzenlenen 5271 sayılı CMK’nin 251/1. maddesinin “Asliye ceza mahkemesince, iddianamenin kabulünden sonra adli para cezasını ve/veya üst sınırı iki yıl veya daha az süreli hapis cezasını gerektiren suçlarda basit yargılama usulünün uygulanmasına karar verilebilir.” şeklindeki hükmüne, 7188 sayılı Kanun’un 31. maddesinde yer alan geçici 5/1-d. maddesi ile “01/01/2020 tarihi itibarıyla kovuşturma evresine geçilmiş, hükme bağlanmış veya kesinleşmiş dosyalarda seri muhakeme usulü ile basit yargılama usulü uygulanmaz.” şeklinde sınırlama getirilmiş ise de, Anayasa Mahkemesinin, 19/08/2020 tarih ve 31218 sayılı Resmi Gazete’de yayımlanan, 25/06/2020 tarihli, 2020/16 Esas ve 2020/33 Karar sayılı iptal kararı ile “...kovuşturma evresine geçilmiş...” ibaresine ilişkin esas incelemenin aynı bentte yer alan “...basit yargılama usulü...” yönünden Anayasaya aykırı olduğuna ve iptaline karar verildiği, böylece “kovuşturma evresine geçilmiş basit yargılama usulü uygulanabilecek dosyalar yönünden iptal kararı” verildiği anlaşılmakla; her ne kadar Anayasa Mahkemesi kararları geriye yürümez ise de, CMK’de yapılan değişikliklerin\\n\\n\\nderhal uygulanması ilkesi geçerli olsa da, iptal kararının sonuçları itibarıyla Maddi Ceza Hukukuna ilişkin olduğu, zira CMK’nin 251/3. maddesinde “Basit yargılama usulü uygulanan dosyalarda sonuç ceza dörtte bir oranında indirilir” şeklindeki düzenleme gereği maddi ceza hukuku anlamında sanık lehine sonuç doğurmaya elverişli olduğundan, Avrupa İnsan Hakları Mahkemesi Büyük Dairesinin (Scoppola v İtalya (No: 3 – GC), No: 126/05, 22 Mayıs 2012) kararında belirtildiği üzere, Avrupa İnsan Hakları Sözleşmesinin “Kanunsuz ceza olmaz” başlıklı 7. maddesi, Türkiye Cumhuriyeti Anayasası'nın “Suç ve cezalara ilişkin esaslar” başlıklı 38. maddesi ile 5237 sayılı TCK'nin 7. ve 5271 sayılı CMK’nin 251. maddeleri uyarınca dosyanın “Basit Yargılama Usulü” yönünden değerlendirilmesinde zorunluluk bulunması,\\nBozmayı gerektirmiş, sanığın temyiz sebepleri bu itibarla yerinde görüldüğünden, hükmün bu nedenden dolayı 6723 sayılı Kanun'un 33. maddesiyle değişik 5320 sayılı Kanun'un 8/1. maddesi ile yürürlükte bulunan 1412 sayılı CMUK'un 321. maddesi uyarınca isteme uygun olarak BOZULMASINA, 19.\" => Mahkumiyet\n",
            "'Hüküm bir bütün olup bölünemeyeceğinden, sanık hakkında hapis cezası yanında hükmolunan adli para cezası kesin nitelikte olmayıp temyizi kabil olduğundan, hüküm fıkrasının kanun yolu kısmında adli para cezasının belirtilmesinin hukuki değerden yoksun olduğu kabul edilerek, hükmün bir bütün olarak incelenmesinde;\\nDairemizin 2020/2463 Esas sayılı dosyasında 01.10.2020 tarihli kararla, somut norm denetimi yoluyla iptal istemli başvuru üzerine Anayasa Mahkemesinin 14.01.2021 gün ve 2020/81 Esas, 2021/4 sayılı Kararı ile 5271 sayılı Ceza Muhakemesi Kanununa 17.10.2019 tarih ve 7188 sayılı Kanunun 31. maddesiyle eklenen geçici 5. maddesinin \"01.01.2020 tarihi itibariyle... hükme bağlanmış ve kesinleşmiş dosyalarda .... basit yargılama usulü uygulanmaz\" bölümündeki \"hükme bağlanmış\" ibaresinin Anayasanın 38. maddesine aykırı olduğuna ve iptaline karar verilmiştir.\\n2709 sayılı Türkiye Cumhuriyeti Anayasasının 38. maddesinde suçun kanuniliği ve cezanın kanuniliği güvence altına alınmıştır. Avrupa İnsan Hakları Sözleşmesinin 7/1. maddesinde de aynı güvencelere yer verilerek \"lehe kanunun uygulanması ilkesi\" benimsenmiştir.\\nMaddi ceza hukukuna ilişkin hükümler içeren basit yargılama usulünün \"hükme bağlanmış dosyalarda\" uygulanmasını engelleyen 5271 sayılı CMK.nın geçici 5. maddesinin (d) bendindeki \"hükme bağlanmış\" ibaresinin basit yargılama usulü yönünden Anayasa Mahkemesi tarafından iptal edilmesi nedeniyle temyiz davasına konu dosyalarda lehe hükümler içeren CMK.nın 251/3. maddesinin uygulanması imkanının doğması ve bu konuda mahkemesince yeniden değerlendirme yapılması zorunluluğu,\\nBozmayı gerektirmiş, sanığın temyiz itirazları bu itibarla yerinde görülmüş olduğundan sair yönleri incelenmeyen hükmün bu sebepten dolayı 5320 sayılı Yasanın 8/1. maddesi uyarınca uygulanması gereken 1412 sayılı CMUK.nın 321. maddesi gereğince BOZULMASINA, 20.04.2021 gününde oybirliğiyle karar verildi.' => Mahkumiyet\n",
            "'Dosya içinde bulunan İzmir Kriminal Polis Laboratuvarı tarafından tanzim edilmiş rapora göre \"suça konu tabanca ses ve gaz fişeklerini atmak için yapılmış bir tabanca iken, sonradan namlusu içinde bulunan gaz ayırıcı parçası çıkartılarak özel nitelikli mermileri atar hale getirildiği\" belirmiş olmakla tabancanın tadil edilmiş olması nedeniyle tebliğnamedeki düşünceye iştirak olunmamıştır.\\nSanık savunmasında önceki kiraladığı işyerinde tabancayı bulduğunu, daha sonra bu işyerini kapatınca tabancayı şuan ki işyerine getirildiğin, taşıdığını beyan ettiğinden, 6136 sayılı Kanunun 13/1. maddesindeki ateşli silahları taşıma suçu sübut bulduğu halde yazılı şekilde bulundurma suçundan mahkumiyet kararı verilmesi,\\nKabule göre ise;\\nSomut olayda suç konusu silah sayısı bir olmasına karşın, hükmün ilk fıkrasında \"iki silahtan\" söz edilmesi ve sanık hakkında hükmolunan hapis cezası takdiren asgari hadden tayin olunduğu halde aynı gerekçeler ile hapis cezası yanında hükmolunan adli para cezasının birim gün sayısının alt sınırdan uzaklaşılarak tayini suretiyle gerekçede çelişkiye düşülmesi,\\nYasaya aykırı, sanığın temyiz itirazları bu itibarla yerinde görülmüş olduğundan hükmün bu sebepten dolayı 5320 sayılı Yasanın 8/1.maddesi gereğince uygulanması gereken CMUK.nın 321. maddesi uyarınca BOZULMASINA, 20.04.2021 gününde oybirliğiyle karar verildi.' => Mahkumiyet\n",
            "\"İlk derece mahkemesinin sanık ... hakkında TCK’nin 86/2, 62. maddeleri gereği verdiği 2000 TL adli cezasına dair kararın suç vasfına yönelik aleyhe istinaf başvurusu üzerine bölge adliye mahkemesince kaldırılarak, sanığın TCK’nin 86/1, 86/3-e, 87/1-c, 62, 53. maddeleri gereği 5 yıl hapis cezasına, sanık ... hakkında TCK’nin 86/1, 86/3-e, 87/1-c-son 62, 53. maddeleri gereği verdiği 4 yıl 2 ay hapis cezasına dair kararın bölge adliye mahkemesince kaldırılarak, sanığın TCK’nin 86/1, 86/3-e, 87/1-c, 62, 53. maddeleri gereği 5 yıl hapis cezasına mahkum edilmiş olmaları\\n\\n\\nnedeniyle 5271 sayılı CMK’nin 286/2-b maddesi gereğince hükümlerin temyizi kabil kararlardan olduğu belirlenerek yapılan incelemede;\\nSanıklar hakkında hükmedilen ceza miktarına göre, sanıklar müdafiinin duruşmalı inceleme talebinin 5271 sayılı CMK'nin 299. maddesi gereğince REDDİNE,\\n... Bölge Adliye Mahkemesi 1. Ceza Dairesinin 10.04.2018 gün ve 2018/245 Esas, 2018/903 Karar sayılı “istinaf başvurusunun kabulü ile yeniden hüküm kurulmak suretiyle sanıkların kasten yaralama suçundan mahkumiyetine” dair hükmünün tüm dosya kapsamına göre hukuka uygun olduğu anlaşıldığından; sanıklar müdafiinin yerinde görülmeyen temyiz sebeplerinin reddiyle, 5271 sayılı CMK’nin 302/1. maddesi gereğince, isteme uygun olarak TEMYİZ İSTEMİNİN ESASTAN REDDİ ile HÜKÜMLERİN ONANMASINA,\\nDosyanın, 28.02.2019 tarihinde Resmi Gazete'de yayımlanarak yürürlüğe giren 7165 sayılı Kanun'un 8. maddesi ile değişik 5271 sayılı CMK'nin 304/1. maddesi gereğince “Fethiye 6.Asliye Ceza Mahkemesine, kararın bir örneğinin ise ... Bölge Adliye Mahkemesi 1. Ceza Dairesine gönderilmek üzere” Yargıtay Cumhuriyet Başsavcılığına TEVDİİNE, 19.04.2021 gününde oy birliğiyle karar verildi.\" => Mahkumiyet\n",
            "\"Olay tarihinde sanık hakkında nitelikli hırsızlık suçundan yürütülen soruşturma sırasında; sanığın kabaca yapılan üst aramasında 6136 sayılı Yasa'ya göre yasak niteliği haiz muştanın ele geçirildiği,UYAP kayıtlarından yapılan sorgulamada; sanık hakkında 6136 sayılı Yasa'nın 15/1 maddesine aykırılık suçundan Bitlis 2. Asliye Ceza Mahkemesi' nin 2015/142 Esas-2017/86 Karar sayılı kararı ile mahkumiyet kararı verildiği ve bu kararın kesinleştiğinin anlaşılması karşısında 6136 sayılı Yasa'nın 15/1 maddesine aykırılık suçunun basit yargılama usulüne tabi olmayan suçla birlikte işlendiği belirlenerek yapılan incelemede;\\nYapılan yargılamaya, toplanıp karar yerinde gösterilen ve değerlendirilen delillere, oluşa ve mahkemenin soruşturma sonucunda oluşan inanç ve takdirine, dosya içeriğine göre sanığın yerinde görülmeyen sair temyiz itirazlarının reddine, ancak;\\nKısa süreli hapis cezası ertelenen sanık hakkında, TCK.nın 53/4. maddesi uyarınca aynı maddenin birinci fıkrasındaki hak yoksunluklarına karar verilemeyeceğinin gözetilmemesi,\\nYasaya aykırı ise de, yeniden yargılama yapılmasını gerektirmeyen bu hususun, 5320 sayılı Yasanın 8/1. maddesi uyarınca uygulanması gereken 1412 sayılı CMUK.nın 322. maddesi gereğince düzeltilmesi mümkün bulunduğundan, hüküm fıkrasından hak yoksunluğuna ilişkin kısmın çıkarılması suretiyle sair yönleri usul ve yasaya uygun olan hükmün DÜZELTİLEREK ONANMASINA, 20.04.2021 gününde oybirliğiyle karar verildi.\" => Mahkumiyet\n",
            "\"Toplanan deliller karar yerinde incelenip, sanık ... hakkında maktul ...'yi kasten öldürme suçunun sübutu kabul, oluşa ve soruşturma sonuçlarına uygun şekilde suç niteliği tayin haksız tahrik ve takdiri indirim nedenlerinin nitelik ve derecesi takdir kılınmış, savunmaları inandırıcı gerekçelerle reddedilmiş, incelenen dosyaya göre bozma sonrası verilen hükümde bir isabetsizlik görülmemiş olduğundan, sanık müdafinin temyiz dilekçesindeki sübuta, sanık hakkında meşru müdafaa hükümleri ve lehe hükümler uygulanması gerektiğine, eksik araştırmaya, katılanlar vekilinin temyiz dilekçesi ve duruşmalı incelemedeki sanık hakkında tasarlama hükümlerinin uygulanması gerektiğine, lehe hükümlerin ve haksız tahrik hükümlerinin uygulanmaması gerektiğine yönelen ve yerinde görülmeyen sair temyiz itirazlarının reddiyle, sanık ... hakkında maktul ...'ye karşı kasten öldürme suçundan kurulan mahkumiyet hükmünün tebliğnamedeki düşünceye uygun olarak ONANMASINA, 20/04/2021 gününde oy birliği ile karar verildi.\\n20/04/2021 gününde verilen işbu karar Yargıtay Cumhuriyet Savcısı ...'un huzurunda ve duruşmada savunmasını yapmış bulunan sanık ... ile katılanlar ..., ..., ... ve ... vekili Avukat ...'un yokluklarında 22/04/2021 gününde usulen ve açık olarak anlatıldı.\" => Mahkumiyet\n",
            "'1)Sanıklar hakkında Tarkan’ı yaralama suçundan kurulan hükme yönelik temyiz isteminin incelenmesinde;\\nHükmolunan cezaların miktarı ve türü gözetildiğinde, 5271 sayılı CMK\\'nin 286/2-a maddesi uyarınca, ilk derece mahkemelerinden verilen beş yıl veya daha az\\n\\n\\n\\nhapis cezaları, miktarı ne olursa olsun adli para cezalarına ilişkin istinaf başvurusunun esastan reddine dair bölge adliye mahkemesi kararlarının temyizi mümkün olmadığından, İstanbul Bölge Adliye Mahkemesi 11. Ceza Dairesinin 31.01.2020 tarihli temyiz isteminin reddine dair ek kararının hukuka uygun olduğu anlaşıldığından; sanıklar müdafii gereğince, isteme uygun olarak ek karara yönelik TEMYİZ İSTEMİNİN REDDİ ile HÜKMÜN ONANMASINA,\\n2)Sanıklar hakkında Talip’i yaralama suçundan kurulan hükme yönelik temyiz isteminin incelenmesinde;\\nİlk derece mahkemesinde sanık hakkında hükmolunan cezanın 5 yıl hapis cezasının üzerinde olması nedeniyle hükümlerin temyize tabi olduğu belirlenerek yapılan incelemede;\\nYerinde görülmeyen diğer temyiz sebeplerinin reddine, ancak;\\nKarşılıklı yaralama suçlarının işlendiği olayda, tarafların olayın gelişimini farklı şekilde anlattıkları anlaşılmakla, olayın çıkış sebebi ve gelişimi üzerinde durularak ilk haksız hareketin kimden geldiğinin tespitine çalışılması; bunun mümkün olmaması halinde Yargıtay Ceza Genel Kurulunun 22.10.2002 tarih ve 2002/4-238 Esas - 367 sayılı Kararı uyarınca ve bu kararla uyumlu Ceza Dairelerinin yerleşmiş ve süreklilik gösteren kararlarında kabul edildiği üzere, ilk haksız hareketin kimden kaynaklandığı şüpheye yer bırakmayacak şekilde belirlenemediğinde, şüpheli kalan bu halin sanıklar lehine yorumlanarak 5237 sayılı TCK\\'nin 29. maddesinde düzenlenen haksız tahrik hükümlerinin asgari oranda (1/4) uygulanması gerektiğinin gözetilmemesi,\\nBozmayı gerektirdiğinden, sanıklar müdafiinin yerinde görülen temyiz talebinin kabulü ile İstanbul Bölge Adliye Mahkemesi 11. Ceza Dairesinin 27.11.2019 gün ve 2018/1448 Esas, 2019/3272 Karar sayılı mahkumiyet hükmünün CMK\\'nin 302/2. maddesi gereğince isteme aykırı olarak BOZULMASINA,\\nDosyanın, 28.02.2019 tarihinde Resmi Gazete\\'de yayımlanarak yürürlüğe giren 7165 sayılı Kanun\\'un 8. maddesi ile değişik 5271 sayılı CMK\\'nin 304/2. maddesi gereğince \"İstanbul Bölge Adliye Mahkemesi 11. Ceza Dairesine gönderilmek üzere” Yargıtay Cumhuriyet Başsavcılığına TEVDİİNE, 19.04.2021 gününde oy birliğiyle karar verildi.' => Mahkumiyet\n",
            "'Dolandırıcılık suçundan sanıkların beraatine ilişkin hükümler katılan vekili tarafından temyiz edilmekle dosya incelenerek gereği düşüldü;\\nKatılanın, sanıklardan 60.000 TL borç para aldığı, karşılığından teminat olarak kendisine ait 200.000 TL değerinde... Mah. ...adresindeki dairesini sanık ... ... üzerine devrettiği, sanıkların katılana devir olayına ilişkin sözleşme düzenleyeceklerini söyledikleri halde düzenlemeyip katılanı oyaladıkları, katılanın borcunu ödemesine rağmen sanıkların evi geri vermemek suretiyle üzerlerine atılı suçu işledikleri iddia olunan somut olayda; sanıkların aşamalarda değişmeyen inkara yönelik savunmaları, katılan beyanı, tanık anlatımı ve tüm dosya kapsamı birlikte değerlendirildiğinde sanıkların atılı suçtan mahkumiyetlerine yeterli kesin, inandırıcı ve her türlü kuşkudan arındırılmış delil elde edilemediği gerekçesine dayanan mahkemenin beraat hükümlerinde bir isabetsizlik görülmemiştir.\\nYapılan yargılamaya, toplanıp karar yerinde gösterilen delillere, mahkemenin kovuşturma sonuçlarına uygun olarak oluşan kanaat ve takdirine, incelenen dosya kapsamına göre; katılan vekilinin suçun sübut bulduğuna ve eksik inceleme yapıldığına yönelik temyiz itirazlarının reddiyle, hükümlerin ONANMASINA, 06/04/2021 tarihinde oybirliğiyle karar verildi.' => Mahkumiyet\n",
            "'Sanıkların nitelikli dolandırıcılık suçundan beraatlarına ilişkin hükümler, katılan vekili ve vekâlet ücretiyle sınırlı olmak üzere sanık ... müdafi tarafından temyiz edilmekle, dosya incelenerek gereği düşünüldü;\\nSanıklardan ...\\'in müteahhit olduğu ve gayrimenkul alım satımı yaptığı, sanık ...\\'un ise, bankadan kredi alma konusunda sanık ...\\'in yönlendirmesiyle müşterilere dosya hazırladığı ve bunun karşılığında para aldığı,\\nBu kapsamda, sanık ...\\'den daire satın almak isteyen sanık ...\\'un, katılan bankadan kredi kullanmak için sanık ...\\'ın yönlendirmesiyle sanık ... ile görüştüğü, sanık ...\\'nın, SGK\\'daki kayıtlara göre 886,50 TL maaş aldığı anlaşılan sanık ...\\'nın 1.500 TL tutarında maaş aldığına dair belgeyi işyerinden aldırmasını sağlayıp, çalıştığı dönemi de farklı gösterecek şekilde internet üzerinden gerçeği yansıtmayan hizmet döküm belgesi aldığı ve bunları ekleyip kredi başvuru dosyası hazırladığı, sanık ... adına katılan banka tarafından 15/06/2011 tarihinde 36 ay vadeli 15.000 TL\\'lik tüketici kredisi, 22/06/2011 tarihinde ise 120 ay vadeli 63.750 TL bedelli konut kredisi tahsis edildiği,\\nSanıklardan ...\\'ün, kredinin kullandırıldığı dönemde ... Medikal isimli işyerinde aylık 796,50 TL maaşla çalıştığı halde, hazırlanan kredi dosyasında sunulan SGK hizmet dökümünde Alke İnşaat firmasında aylık 2.659 TL maaşla çalıştığına ilişkin sahte belgeyi katılan bankaya ibraz ettiği, kefil olarak gösterdiği sanık ...\\'in, Şimşek Alüminyum isimli firmada aylık 531 TL maaşla çalıştığı; ancak, sunulan sahte SGK hizmet dökümünde ise Alke İnşaat firmasında aylık 776,20 TL maaşla çalıştığına dair hizmet dökümü sunduğu, yine aynı kredi sözleşmesinde kefil olan sanık ...\\'un herhangi bir yerde çalışmadığı halde, Unspet Paket servisinde çalıştığına dair gelir belgesi ile...\\'a ait medikal firmasında çalıştığına dair sahte SGK hizmet döküm belgesi sunduğu, bunun üzerine katılan banka tarafından sanık ...\\'e 25.000 TL tüketici kredisi, 250 TL kredili mevduat hesabı ve 1.000 TL tutarında kredi kartı tanımlandığı,\\nSanık ...\\'un almış olduğu kredileri ödemeye devam ettiği, ancak sanık ...\\'ün kredi borçlarını ödeyemediği ve yasal takipte olduğu,\\nBu şekilde, sanık ...\\'un bankaca tahsis edilmemesi gereken kredi ile ilgili olarak birer hafta arayla aynı banka şubesine iki kez sahte SGK hizmet dökümü sunarak 15.000 TL tüketici, 63.750 TL konut kredisi almak suretiyle; sanık ...\\'ün yine sahte hizmet dökümü ile bankaya müracaat edip 25.000 TL tüketici kredisi almak suretiyle atılı nitelikli dolandırıcılık suçunu işledikleri, kefil olan diğer sanıklar ... ve ...\\'in de yine sahte hizmet dökümleri sunup kredi sözleşmesine kefil olarak imza atmak suretiyle; sanıklar ... ve ...\\'un da kredi dosyası hazırlama ve sahte hizmet dökümlerini dosyaya sunmak suretiyle bu suçun işlenmesine yardım ettikleri iddia edilen olayda;\\n1- Sanıklar ..., ..., ..., ... ve ... hakkında verilen beraat hükümlerinin incelenmesinde;\\nKredi başvurularına eklenen SGK hizmet dökümü cetvellerinin bilgisayar çıktısı şeklinde imzasız ve onaysız oldukları, katılan bankanın kredi başvuruları sırasında, internet sistemi üzerinden erişimi mümkün olduğu halde SGK hizmet dökümü belgelerinin kontrolünü yapmayarak basiretli bir tacir gibi davranmadığı ve denetim yükümlülüğünü yerine getirmediği, sanıkların bankanın denetim olanağını ortadan kaldıracak mahiyette hileli bir hareketlerinin bulunmadığı anlaşılmakla; sanıklara atılı suçun yasal unsurları itibariyle oluşmadığı gerekçesiyle verilen beraat hükümlerinde bir isabetsizlik görülmemiştir.\\nYapılan yargılama sonunda, sanıklara atılı suçun unsurlarının oluşmadığı gerekçe gösterilerek mahkemece kabul ve takdir kılınmış olduğundan, katılan vekilinin, atılı suçun sübut bulduğuna ilişkin temyiz itirazlarının reddiyle, hükümlerin ONANMASINA,\\n2- Sanık ... hakkında verilen beraat hükmünün incelenmesinde;\\nYapılan yargılamaya, toplanıp karar yerinde gösterilen delillere, mahkemenin kovuşturma sonuçlarına uygun olarak oluşan kanaat ve takdirine, incelenen dosya kapsamına göre, katılan vekilinin yerinde görülmeyen sair temyiz itirazlarının reddine, ancak;\\n1136 sayılı Kanun\\'un 168. ve hüküm tarihinde yürürlükte bulunan Avukatlık Asgari Ücret Tarifesi\\'nin 13. maddesinin 5. fıkrası uyarınca, beraat eden ve kendisini vekille temsil ettiren sanık lehine maktu avukatlık ücretine hükmedilmesi gerektiğinin gözetilmemesi,\\nKanuna aykırı olup, sanık müdafinin temyiz itirazları bu itibarla yerinde görülmüş olduğundan, hükmün bu nedenle 5320 sayılı Kanun\\'un 8/1. maddesi gereğince uygulanması gereken 1412 sayılı CMUK\\'un 321. maddesi uyarınca BOZULMASINA, ancak yeniden yargılama yapılmasını gerektirmeyen bu hususun aynı kanunun 322. maddesi uyarınca düzeltilmesi mümkün bulunduğundan, hükmün ilgili kısmına \"Sanık ...’un kendisini vekil ile temsil ettirdiği anlaşıldığından, hüküm tarihinde yürürlükte bulunan Avukatlık Asgari Ücret Tarifesi hükümlerine göre belirlenen 3.000 TL vekâlet ücretinin Hazineden alınarak sanığa verilmesine\" fıkrasının eklenmesi suretiyle hükmün DÜZELTİLEREK ONANMASINA, 07/04/2021 tarihinde oy birliğiyle karar verildi.' => Mahkumiyet\n"
          ],
          "name": "stdout"
        }
      ]
    },
    {
      "cell_type": "code",
      "metadata": {
        "colab": {
          "base_uri": "https://localhost:8080/"
        },
        "id": "PCEc1eWGL3G0",
        "outputId": "ffe12db2-21c2-4fd2-e87e-e4a6b40aee94"
      },
      "source": [
        "# Performans sonuçları\n",
        "from sklearn.metrics import accuracy_score\n",
        "\n",
        "print(accuracy_score(y_test, y_pred))"
      ],
      "execution_count": null,
      "outputs": [
        {
          "output_type": "stream",
          "text": [
            "0.2727272727272727\n"
          ],
          "name": "stdout"
        }
      ]
    }
  ]
}